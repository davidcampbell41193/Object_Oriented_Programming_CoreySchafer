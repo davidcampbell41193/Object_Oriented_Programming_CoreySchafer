{
 "cells": [
  {
   "cell_type": "markdown",
   "id": "91bb7ac5",
   "metadata": {},
   "source": [
    "# Tutorial One: Classes and Instances"
   ]
  },
  {
   "cell_type": "code",
   "execution_count": 14,
   "id": "9f197aa1",
   "metadata": {},
   "outputs": [
    {
     "name": "stdout",
     "output_type": "stream",
     "text": [
      "{'__module__': '__main__', '__dict__': <attribute '__dict__' of 'Employee' objects>, '__weakref__': <attribute '__weakref__' of 'Employee' objects>, '__doc__': None}\n"
     ]
    }
   ],
   "source": [
    "class Employee:\n",
    "    pass\n",
    "\n",
    "emp1 = Employee()\n",
    "emp2 = Employee()\n",
    "\n",
    "\n",
    "\"\"\"\n",
    "Note that we do not see an initmet \n",
    "\"\"\"\n",
    "print(Employee.__dict__)"
   ]
  },
  {
   "cell_type": "code",
   "execution_count": 9,
   "id": "e7a53f76",
   "metadata": {},
   "outputs": [],
   "source": [
    "emp1.fname = \"Corey\"\n",
    "emp1.lname = \"Schafer\"\n",
    "emp1.pay = 50000\n",
    "\n",
    "emp2.first = \"Test\"\n",
    "emp2.last = \"User\"\n",
    "emp2.pay = 60000"
   ]
  },
  {
   "cell_type": "code",
   "execution_count": 10,
   "id": "639d1ab9",
   "metadata": {},
   "outputs": [
    {
     "name": "stdout",
     "output_type": "stream",
     "text": [
      "{'fname': 'Corey', 'lname': 'Schafer', 'pay': 50000}\n",
      "{'first': 'Test', 'last': 'User', 'pay': 60000}\n"
     ]
    }
   ],
   "source": [
    "print(emp1.__dict__)\n",
    "print(emp2.__dict__)"
   ]
  },
  {
   "cell_type": "code",
   "execution_count": 24,
   "id": "ee8d38bb",
   "metadata": {},
   "outputs": [],
   "source": [
    "# We don't want to set up these variables each time.\n",
    "# So we use an initmit. In other languages it is called an constructor.\n",
    "\n",
    "class Employee:\n",
    "    \n",
    "    def __init__(self, first, last, pay):\n",
    "        self.fname = first\n",
    "        self.lname = last\n",
    "        self.email = first + \".\" + last + \"@company.com\"\n",
    "        self.pay = pay\n",
    "    \n",
    "#\"\"\"\n",
    "#The fname, lname, email, and pay are all attributes of our class.\n",
    "#\"\"\"    "
   ]
  },
  {
   "cell_type": "code",
   "execution_count": 25,
   "id": "9ff4688a",
   "metadata": {},
   "outputs": [],
   "source": [
    "emp1 = Employee('Corey' , 'Schafer', 50000)\n",
    "emp2 = Employee('Test', 'User', 40000)"
   ]
  },
  {
   "cell_type": "code",
   "execution_count": 26,
   "id": "d667e31d",
   "metadata": {},
   "outputs": [
    {
     "name": "stdout",
     "output_type": "stream",
     "text": [
      "{'__module__': '__main__', '__init__': <function Employee.__init__ at 0x7fb97fd97670>, '__dict__': <attribute '__dict__' of 'Employee' objects>, '__weakref__': <attribute '__weakref__' of 'Employee' objects>, '__doc__': None}\n"
     ]
    }
   ],
   "source": [
    "#\"\"\"\n",
    "#We can see that an initmet was added to the dictionary of our Employee \n",
    "#class.\n",
    "#\"\"\"\n",
    "\n",
    "print(Employee.__dict__)"
   ]
  },
  {
   "cell_type": "code",
   "execution_count": 28,
   "id": "58409229",
   "metadata": {},
   "outputs": [
    {
     "name": "stdout",
     "output_type": "stream",
     "text": [
      "Test User\n"
     ]
    }
   ],
   "source": [
    "#\"\"\"\n",
    "#Let says that we want to be able to perform some kind of action on our \n",
    "#class. To do that we can add some methods to our class.\n",
    "\n",
    "#In this example we want the ability to disply the full name of an\n",
    "#employee.\n",
    "\n",
    "#We can do it manually out side class.\n",
    "#\"\"\"\n",
    "\n",
    "print('{} {}'.format(emp2.fname , emp2.lname))"
   ]
  },
  {
   "cell_type": "code",
   "execution_count": 40,
   "id": "c6bb3efc",
   "metadata": {},
   "outputs": [],
   "source": [
    "# We can create a method in our class to display the full name.\n",
    "\n",
    "# Each method within a class automatically takes in the instance as \n",
    "# the first argument. This is the case with the full name function.\n",
    "\n",
    "class Employee:\n",
    "    \n",
    "    def __init__(self, first, last, pay):\n",
    "        self.fname = first\n",
    "        self.lname = last\n",
    "        self.email = first + \".\" + last + \"@company.com\"\n",
    "        self.pay = pay\n",
    "    \n",
    "    def fullname(self):\n",
    "        return \"{} {}\".format(self.fname, self.lname)\n",
    "    "
   ]
  },
  {
   "cell_type": "code",
   "execution_count": 41,
   "id": "0dc6516d",
   "metadata": {},
   "outputs": [
    {
     "name": "stdout",
     "output_type": "stream",
     "text": [
      "{'fname': 'Corey', 'lname': 'Schafer', 'email': 'Corey.Schafer@company.com', 'pay': 50000}\n"
     ]
    }
   ],
   "source": [
    "#print(emp1.fullname())\n",
    "print(emp1.__dict__)"
   ]
  },
  {
   "cell_type": "code",
   "execution_count": 44,
   "id": "7b4a310b",
   "metadata": {},
   "outputs": [],
   "source": [
    "# Note the error we have re run the instance of the class because it \n",
    "# does not currently include the fullname function in its dictionary.\n",
    "\n",
    "emp1 = Employee('Corey' , 'Schafer', 50000)\n",
    "emp2 = Employee('Test', 'User', 40000) "
   ]
  },
  {
   "cell_type": "code",
   "execution_count": 45,
   "id": "25c12fa5",
   "metadata": {},
   "outputs": [
    {
     "name": "stdout",
     "output_type": "stream",
     "text": [
      "{'__module__': '__main__', '__init__': <function Employee.__init__ at 0x7fb97faedca0>, 'fullname': <function Employee.fullname at 0x7fb97faedd30>, '__dict__': <attribute '__dict__' of 'Employee' objects>, '__weakref__': <attribute '__weakref__' of 'Employee' objects>, '__doc__': None}\n"
     ]
    }
   ],
   "source": [
    "#print(emp1.__dict__)\n",
    "\n",
    "# Now we can see the function 'fullname' is included in the \n",
    "print(Employee.__dict__)"
   ]
  },
  {
   "cell_type": "code",
   "execution_count": 54,
   "id": "7e37fd61",
   "metadata": {},
   "outputs": [
    {
     "name": "stdout",
     "output_type": "stream",
     "text": [
      "Corey Schafer \n",
      "\n",
      "<bound method Employee.fullname of <__main__.Employee object at 0x7fb97fbadf10>> \n",
      "\n",
      "<function Employee.fullname at 0x7fb97faedd30> \n",
      "\n",
      "Corey Schafer \n",
      "\n",
      "Test User \n",
      "\n",
      "Test User\n"
     ]
    }
   ],
   "source": [
    "print(emp1.fullname() , '\\n')\n",
    "print(emp1.fullname , '\\n')\n",
    "print(Employee.fullname , '\\n')\n",
    "print(Employee.fullname(emp1), '\\n')\n",
    "print(emp2.fullname() , '\\n')\n",
    "print(Employee.fullname(emp2))\n",
    "\n",
    "# Using this fullname method in the Employee class we defined\n",
    "# it is now easier to print the full name for each of our employee.\n",
    "# Note that there are two ways that we can use the fullname method.\n",
    "# Employee.fullname(emp) == emp.fullname()\n",
    "\n",
    "# Note that we need the paratheses to run the method on the instance\n",
    "# of the class (ie. emp.fullname() ). Rather than to access the method \n",
    "# as an attributes of the class (ie. emp.fullname)."
   ]
  },
  {
   "cell_type": "code",
   "execution_count": 56,
   "id": "42fa6e90",
   "metadata": {},
   "outputs": [
    {
     "ename": "TypeError",
     "evalue": "fullname() takes 0 positional arguments but 1 was given",
     "output_type": "error",
     "traceback": [
      "\u001b[0;31m---------------------------------------------------------------------------\u001b[0m",
      "\u001b[0;31mTypeError\u001b[0m                                 Traceback (most recent call last)",
      "Cell \u001b[0;32mIn [56], line 19\u001b[0m\n\u001b[1;32m     16\u001b[0m emp1 \u001b[38;5;241m=\u001b[39m Employee(\u001b[38;5;124m'\u001b[39m\u001b[38;5;124mCorey\u001b[39m\u001b[38;5;124m'\u001b[39m , \u001b[38;5;124m'\u001b[39m\u001b[38;5;124mSchafer\u001b[39m\u001b[38;5;124m'\u001b[39m, \u001b[38;5;241m50000\u001b[39m)\n\u001b[1;32m     17\u001b[0m emp2 \u001b[38;5;241m=\u001b[39m Employee(\u001b[38;5;124m'\u001b[39m\u001b[38;5;124mTest\u001b[39m\u001b[38;5;124m'\u001b[39m, \u001b[38;5;124m'\u001b[39m\u001b[38;5;124mUser\u001b[39m\u001b[38;5;124m'\u001b[39m, \u001b[38;5;241m40000\u001b[39m) \n\u001b[0;32m---> 19\u001b[0m \u001b[38;5;28mprint\u001b[39m(\u001b[43memp1\u001b[49m\u001b[38;5;241;43m.\u001b[39;49m\u001b[43mfullname\u001b[49m\u001b[43m(\u001b[49m\u001b[43m)\u001b[49m)\n",
      "\u001b[0;31mTypeError\u001b[0m: fullname() takes 0 positional arguments but 1 was given"
     ]
    }
   ],
   "source": [
    "# One common mistake that people make when defining a method is to \n",
    "# leave off the 'self' argument \n",
    "# (ie. def fullname() vs def fullname(self)).\n",
    "\n",
    "class Employee:\n",
    "    \n",
    "    def __init__(self, first, last, pay):\n",
    "        self.fname = first\n",
    "        self.lname = last\n",
    "        self.email = first + \".\" + last + \"@company.com\"\n",
    "        self.pay = pay\n",
    "    \n",
    "    def fullname():\n",
    "        return \"{} {}\".format(self.fname, self.lname)\n",
    "    \n",
    "emp1 = Employee('Corey' , 'Schafer', 50000)\n",
    "emp2 = Employee('Test', 'User', 40000) \n",
    "\n",
    "print(emp1.fullname())"
   ]
  },
  {
   "cell_type": "code",
   "execution_count": 63,
   "id": "ff200581",
   "metadata": {},
   "outputs": [
    {
     "name": "stdout",
     "output_type": "stream",
     "text": [
      "Corey Schafer\n",
      "Corey Schafer\n"
     ]
    }
   ],
   "source": [
    "# This error can be confusing because because it looks like there is not\n",
    "# argument being passed into the fullname function, emp.fullname. But the\n",
    "# instance which in this case is emp is being passed into the full name \n",
    "# funciton. Thefore, we have to expact that instance argument in our\n",
    "# (fullname) mehtod.\n",
    "class Employee:\n",
    "    \n",
    "    def __init__(self, first, last, pay):\n",
    "        self.fname = first\n",
    "        self.lname = last\n",
    "        self.email = first + \".\" + last + \"@company.com\"\n",
    "        self.pay = pay\n",
    "    \n",
    "    def fullname(self):\n",
    "        return \"{} {}\".format(self.fname, self.lname)\n",
    "    \n",
    "emp1 = Employee('Corey' , 'Schafer', 50000)\n",
    "emp2 = Employee('Test', 'User', 40000) \n",
    "\n",
    "print(emp1.fullname())\n",
    "\n",
    "\n",
    "# We can access the method from the Employee class. This makes it a little\n",
    "# more obveous about what is going on in the back ground. When we run it\n",
    "# the full name function through the class we have to manually pass the\n",
    "# instance to the fullname method.\n",
    "\n",
    "print(Employee.fullname(emp1))\n",
    "\n",
    "# In emp.fullname() I don't need to pass the \"self\" variable because it \n",
    "# the compiler knows to run it on the emp variable. When we access the \n",
    "# the method, fullname, from the class it doesn't know which instance to\n",
    "# run on therefore we have to pass the self variable.\n",
    "\n",
    "# emp.fullname() gets transformed into Employee.fullname(emp) in the \n",
    "# background."
   ]
  },
  {
   "cell_type": "markdown",
   "id": "6d31d344",
   "metadata": {},
   "source": [
    "# Tutorial Two: Class Variables"
   ]
  },
  {
   "cell_type": "code",
   "execution_count": 64,
   "id": "ba041c35",
   "metadata": {},
   "outputs": [
    {
     "name": "stdout",
     "output_type": "stream",
     "text": [
      "Corey Schafer\n"
     ]
    }
   ],
   "source": [
    "# In the last video we learned how to create a simple class, and how to\n",
    "# create instances of that class. We learned about instance variables\n",
    "# we is used for data that is unique to each instance. Instance varbles\n",
    "# that are set with the self varibale in the initmet.\n",
    "\n",
    "class Employee:\n",
    "    \n",
    "    def __init__(self, first, last, pay):\n",
    "        self.fname = first\n",
    "        self.lname = last\n",
    "        self.email = first + \".\" + last + \"@company.com\"\n",
    "        self.pay = pay\n",
    "    \n",
    "    def fullname(self):\n",
    "        return \"{} {}\".format(self.fname, self.lname)\n",
    "    \n",
    "emp1 = Employee('Corey' , 'Schafer', 50000)\n",
    "emp2 = Employee('Test', 'User', 40000) \n",
    "\n",
    "print(emp1.fullname())"
   ]
  },
  {
   "cell_type": "code",
   "execution_count": 67,
   "id": "8ec97ec4",
   "metadata": {},
   "outputs": [
    {
     "name": "stdout",
     "output_type": "stream",
     "text": [
      "50000\n",
      "52000\n"
     ]
    }
   ],
   "source": [
    "# Class variables are shared among all instances of a class. An example\n",
    "# of data that would be shared among all employees is the company annual\n",
    "# raise.\n",
    "\n",
    "class Employee:\n",
    "    \n",
    "    def __init__(self, first, last, pay):\n",
    "        self.fname = first\n",
    "        self.lname = last\n",
    "        self.email = first + \".\" + last + \"@company.com\"\n",
    "        self.pay = pay\n",
    "    \n",
    "    def fullname(self):\n",
    "        return \"{} {}\".format(self.fname, self.lname)\n",
    "    \n",
    "    def apply_raise(self):\n",
    "        self.pay = int(self.pay * 1.04)\n",
    "    \n",
    "emp1 = Employee('Corey' , 'Schafer', 50000)\n",
    "emp2 = Employee('Test', 'User', 40000) \n",
    "\n",
    "\n",
    "print(emp1.pay)\n",
    "emp1.apply_raise()\n",
    "print(emp1.pay)\n",
    "\n",
    "# We can see that employee one's pay increases by 4% after the apply_raise\n",
    "# method was applied."
   ]
  },
  {
   "cell_type": "code",
   "execution_count": 68,
   "id": "15c9c006",
   "metadata": {},
   "outputs": [],
   "source": [
    "# It would be nice if we could access the raise amount through\n",
    "# emp1.raise_amount. Since it should apply to the entire class it should \n",
    "# work for Employee.raise_amount.\n",
    "\n",
    "# That raise amount attribute does not currently exit in the class \n",
    "# definition. Therefore we cannot see that it is %4.\n",
    "\n",
    "# Also we can't easily update the raise amount. The raise amount is \n",
    "# basically hidden within the apply_raise method. And the raise_amount\n",
    "# could be in multiple places within the code. We wouldn't want to manually\n",
    "# go in and change the %4 raise_amount in multiple location. \n",
    "\n",
    "# The way we fixed this problem is be defining a class variable."
   ]
  },
  {
   "cell_type": "code",
   "execution_count": 69,
   "id": "e7ea355d",
   "metadata": {},
   "outputs": [
    {
     "name": "stdout",
     "output_type": "stream",
     "text": [
      "50000\n"
     ]
    },
    {
     "ename": "NameError",
     "evalue": "name 'raise_amount' is not defined",
     "output_type": "error",
     "traceback": [
      "\u001b[0;31m---------------------------------------------------------------------------\u001b[0m",
      "\u001b[0;31mNameError\u001b[0m                                 Traceback (most recent call last)",
      "Cell \u001b[0;32mIn [69], line 22\u001b[0m\n\u001b[1;32m     19\u001b[0m emp2 \u001b[38;5;241m=\u001b[39m Employee(\u001b[38;5;124m'\u001b[39m\u001b[38;5;124mTest\u001b[39m\u001b[38;5;124m'\u001b[39m, \u001b[38;5;124m'\u001b[39m\u001b[38;5;124mUser\u001b[39m\u001b[38;5;124m'\u001b[39m, \u001b[38;5;241m40000\u001b[39m) \n\u001b[1;32m     21\u001b[0m \u001b[38;5;28mprint\u001b[39m(emp1\u001b[38;5;241m.\u001b[39mpay)\n\u001b[0;32m---> 22\u001b[0m \u001b[43memp1\u001b[49m\u001b[38;5;241;43m.\u001b[39;49m\u001b[43mapply_raise\u001b[49m\u001b[43m(\u001b[49m\u001b[43m)\u001b[49m\n\u001b[1;32m     23\u001b[0m \u001b[38;5;28mprint\u001b[39m(emp1\u001b[38;5;241m.\u001b[39mpay)\n",
      "Cell \u001b[0;32mIn [69], line 16\u001b[0m, in \u001b[0;36mEmployee.apply_raise\u001b[0;34m(self)\u001b[0m\n\u001b[1;32m     15\u001b[0m \u001b[38;5;28;01mdef\u001b[39;00m \u001b[38;5;21mapply_raise\u001b[39m(\u001b[38;5;28mself\u001b[39m):\n\u001b[0;32m---> 16\u001b[0m     \u001b[38;5;28mself\u001b[39m\u001b[38;5;241m.\u001b[39mpay \u001b[38;5;241m=\u001b[39m \u001b[38;5;28mint\u001b[39m(\u001b[38;5;28mself\u001b[39m\u001b[38;5;241m.\u001b[39mpay \u001b[38;5;241m*\u001b[39m \u001b[43mraise_amount\u001b[49m)\n",
      "\u001b[0;31mNameError\u001b[0m: name 'raise_amount' is not defined"
     ]
    }
   ],
   "source": [
    "class Employee:\n",
    "    \n",
    "    #Below is the class variable that we are defining.\n",
    "    rasie_amount = 1.04\n",
    "    \n",
    "    def __init__(self, first, last, pay):\n",
    "        self.fname = first\n",
    "        self.lname = last\n",
    "        self.email = first + \".\" + last + \"@company.com\"\n",
    "        self.pay = pay\n",
    "    \n",
    "    def fullname(self):\n",
    "        return \"{} {}\".format(self.fname, self.lname)\n",
    "    \n",
    "    def apply_raise(self):\n",
    "        self.pay = int(self.pay * raise_amount)\n",
    "    \n",
    "emp1 = Employee('Corey' , 'Schafer', 50000)\n",
    "emp2 = Employee('Test', 'User', 40000) \n",
    "\n",
    "print(emp1.pay)\n",
    "emp1.apply_raise()\n",
    "print(emp1.pay)\n",
    "\n"
   ]
  },
  {
   "cell_type": "code",
   "execution_count": 71,
   "id": "93078e46",
   "metadata": {},
   "outputs": [
    {
     "name": "stdout",
     "output_type": "stream",
     "text": [
      "50000\n",
      "52000\n"
     ]
    }
   ],
   "source": [
    "# We need to access the class variable through the class or the instance\n",
    "# its self. We can either do self.raise_amount or Employee.raise_amount.\n",
    "\n",
    "class Employee:\n",
    "    \n",
    "    #Below is the class variable that we are defining.\n",
    "    raise_amount = 1.04\n",
    "    \n",
    "    def __init__(self, first, last, pay):\n",
    "        self.fname = first\n",
    "        self.lname = last\n",
    "        self.email = first + \".\" + last + \"@company.com\"\n",
    "        self.pay = pay\n",
    "    \n",
    "    def fullname(self):\n",
    "        return \"{} {}\".format(self.fname, self.lname)\n",
    "    \n",
    "    def apply_raise(self):\n",
    "        self.pay = int(self.pay * self.raise_amount)\n",
    "    \n",
    "emp1 = Employee('Corey' , 'Schafer', 50000)\n",
    "emp2 = Employee('Test', 'User', 40000) \n",
    "\n",
    "print(emp1.pay)\n",
    "emp1.apply_raise()\n",
    "print(emp1.pay)"
   ]
  },
  {
   "cell_type": "code",
   "execution_count": 73,
   "id": "e81e475d",
   "metadata": {},
   "outputs": [
    {
     "name": "stdout",
     "output_type": "stream",
     "text": [
      "1.04\n",
      "1.04\n",
      "1.04\n"
     ]
    }
   ],
   "source": [
    "# It maybe confusing as to why you can access a class variable from the\n",
    "# instance itself.\n",
    "\n",
    "print(Employee.raise_amount)\n",
    "print(emp1.raise_amount)\n",
    "print(emp2.raise_amount)"
   ]
  },
  {
   "cell_type": "code",
   "execution_count": 76,
   "id": "a1ab739a",
   "metadata": {},
   "outputs": [
    {
     "name": "stdout",
     "output_type": "stream",
     "text": [
      "{'fname': 'Corey', 'lname': 'Schafer', 'email': 'Corey.Schafer@company.com', 'pay': 52000} \n",
      "\n",
      "{'__module__': '__main__', 'raise_amount': 1.04, '__init__': <function Employee.__init__ at 0x7fb97faedaf0>, 'fullname': <function Employee.fullname at 0x7fb97faed700>, 'apply_raise': <function Employee.apply_raise at 0x7fb97faede50>, '__dict__': <attribute '__dict__' of 'Employee' objects>, '__weakref__': <attribute '__weakref__' of 'Employee' objects>, '__doc__': None}\n"
     ]
    }
   ],
   "source": [
    "# As we can see we can access the raise_amount attribute from the class\n",
    "# and the instances itself. \n",
    "\n",
    "# When we try to access an attribute from an instance it will first check \n",
    "# if the instance contains that attribute. If the instance does not contain\n",
    "# the attribute, it will check if the class, or any other class that it \n",
    "# it inherates from, contains that attribute.\n",
    "\n",
    "# When we access the raise_amount from the instances, emp1 and emp2, they\n",
    "# don't actually contain the attribute themselves. They are being access\n",
    "# through the class, Employee.\n",
    "\n",
    "# To see what is going on better we can print out the name space of \n",
    "# the instances, emp1 and emp2, and the class, Employee.\n",
    "\n",
    "print(emp1.__dict__ , '\\n')\n",
    "print(Employee.__dict__)"
   ]
  },
  {
   "cell_type": "code",
   "execution_count": 77,
   "id": "b9441fa8",
   "metadata": {},
   "outputs": [
    {
     "name": "stdout",
     "output_type": "stream",
     "text": [
      "1.05\n",
      "1.05\n",
      "1.05\n"
     ]
    }
   ],
   "source": [
    "# We can see that the Employee class dictionary contains the raise amount, but \n",
    "# the instance dictionary does not.\n",
    "\n",
    "# We can change the raise amount for the class and instances.\n",
    "\n",
    "Employee.raise_amount = 1.05\n",
    "\n",
    "print(Employee.raise_amount)\n",
    "print(emp1.raise_amount)\n",
    "print(emp2.raise_amount)"
   ]
  },
  {
   "cell_type": "code",
   "execution_count": 78,
   "id": "1495723e",
   "metadata": {},
   "outputs": [
    {
     "name": "stdout",
     "output_type": "stream",
     "text": [
      "1.04\n",
      "1.05\n",
      "1.04\n"
     ]
    }
   ],
   "source": [
    "# We can also chagne the raise amount for a particular instance.\n",
    "\n",
    "class Employee:\n",
    "    \n",
    "    #Below is the class variable that we are defining.\n",
    "    raise_amount = 1.04\n",
    "    \n",
    "    def __init__(self, first, last, pay):\n",
    "        self.fname = first\n",
    "        self.lname = last\n",
    "        self.email = first + \".\" + last + \"@company.com\"\n",
    "        self.pay = pay\n",
    "    \n",
    "    def fullname(self):\n",
    "        return \"{} {}\".format(self.fname, self.lname)\n",
    "    \n",
    "    def apply_raise(self):\n",
    "        self.pay = int(self.pay * self.raise_amount)\n",
    "    \n",
    "emp1 = Employee('Corey' , 'Schafer', 50000)\n",
    "emp2 = Employee('Test', 'User', 40000) \n",
    "\n",
    "# Below we are changing the raise_amount for employee 1.\n",
    "emp1.raise_amount = 1.05\n",
    "# This raise_amount assignment made a raise_amount attribute fore\n",
    "# employee 1. \n",
    "\n",
    "print(Employee.raise_amount)\n",
    "print(emp1.raise_amount)\n",
    "print(emp2.raise_amount)\n",
    "\n",
    "# There the raise_amount is access through its but the raise_amount for\n",
    "# emp2 is access through the classes its self. This is an important\n",
    "# concept to understand when we apply_raise method is applied. When\n",
    "# the apply_raise method is applied to emp1 the amount will be 5% but will\n",
    "# be 4% for emp2. If the raise_amount were access from the class the\n",
    "# raise_would be %4 for emp2 ande emp2."
   ]
  },
  {
   "cell_type": "code",
   "execution_count": 80,
   "id": "fc8955f3",
   "metadata": {},
   "outputs": [
    {
     "name": "stdout",
     "output_type": "stream",
     "text": [
      "{'fname': 'Corey', 'lname': 'Schafer', 'email': 'Corey.Schafer@company.com', 'pay': 50000, 'raise_amount': 1.05} \n",
      "\n",
      "{'__module__': '__main__', 'raise_amount': 1.04, '__init__': <function Employee.__init__ at 0x7fb97fe103a0>, 'fullname': <function Employee.fullname at 0x7fb97fe109d0>, 'apply_raise': <function Employee.apply_raise at 0x7fb97fe10820>, '__dict__': <attribute '__dict__' of 'Employee' objects>, '__weakref__': <attribute '__weakref__' of 'Employee' objects>, '__doc__': None}\n"
     ]
    }
   ],
   "source": [
    "# The raise_amount only changed from employee 1.\n",
    "\n",
    "print(emp1.__dict__ , '\\n')\n",
    "print(Employee.__dict__)\n",
    "\n",
    "# We can see that employee 1 has 'raise_amount' within its name space.\n",
    "# Therefore emp1.raise_amount is access through the instance emp1 without\n",
    "# having to access it through the class."
   ]
  },
  {
   "cell_type": "code",
   "execution_count": 94,
   "id": "5e7cb7c1",
   "metadata": {},
   "outputs": [
    {
     "name": "stdout",
     "output_type": "stream",
     "text": [
      "Employee 1 pay:\n",
      "50000\n",
      "52000 \n",
      "\n",
      "Employee 2 pay:\n",
      "50000\n",
      "52000 \n",
      "\n"
     ]
    }
   ],
   "source": [
    "# Lets say that we were to access the raise_amount through the class\n",
    "# instead of the instance. \n",
    "\n",
    "class Employee:\n",
    "    \n",
    "    #Below is the class variable that we are defining.\n",
    "    raise_amount = 1.04\n",
    "    \n",
    "    def __init__(self, first, last, pay):\n",
    "        self.fname = first\n",
    "        self.lname = last\n",
    "        self.email = first + \".\" + last + \"@company.com\"\n",
    "        self.pay = pay\n",
    "    \n",
    "    def fullname(self):\n",
    "        return \"{} {}\".format(self.fname, self.lname)\n",
    "    \n",
    "    def apply_raise(self):\n",
    "        self.pay = int(self.pay * Employee.raise_amount)\n",
    "    \n",
    "emp1 = Employee('Corey' , 'Schafer', 50000)\n",
    "emp2 = Employee('Test', 'User', 50000) \n",
    "\n",
    "# We can still declare that emp1.raise_amount = 1.05\n",
    "\n",
    "emp1.raise_amount = 1.05 \n",
    "\n",
    "print('Employee 1 pay:')\n",
    "print(emp1.pay)\n",
    "emp1.apply_raise()\n",
    "print(emp1.pay , '\\n')\n",
    "\n",
    "print('Employee 2 pay:')\n",
    "print(emp2.pay)\n",
    "emp2.apply_raise()\n",
    "print(emp2.pay , '\\n')\n",
    "\n",
    "\n",
    "# We can see the raise amount is the safe for both cases."
   ]
  },
  {
   "cell_type": "code",
   "execution_count": 95,
   "id": "d08dac29",
   "metadata": {},
   "outputs": [
    {
     "name": "stdout",
     "output_type": "stream",
     "text": [
      "Employee 1 pay:\n",
      "50000\n",
      "52500 \n",
      "\n",
      "Employee 2 pay:\n",
      "50000\n",
      "52000 \n",
      "\n"
     ]
    }
   ],
   "source": [
    "class Employee:\n",
    "    \n",
    "    #Below is the class variable that we are defining.\n",
    "    raise_amount = 1.04\n",
    "    \n",
    "    def __init__(self, first, last, pay):\n",
    "        self.fname = first\n",
    "        self.lname = last\n",
    "        self.email = first + \".\" + last + \"@company.com\"\n",
    "        self.pay = pay\n",
    "    \n",
    "    def fullname(self):\n",
    "        return \"{} {}\".format(self.fname, self.lname)\n",
    "    \n",
    "    def apply_raise(self):\n",
    "        self.pay = int(self.pay * self.raise_amount)\n",
    "    \n",
    "emp1 = Employee('Corey' , 'Schafer', 50000)\n",
    "emp2 = Employee('Test', 'User', 50000) \n",
    "\n",
    "# We can still declare that emp1.raise_amount = 1.05\n",
    "\n",
    "emp1.raise_amount = 1.05 \n",
    "\n",
    "print('Employee 1 pay:')\n",
    "print(emp1.pay)\n",
    "emp1.apply_raise()\n",
    "print(emp1.pay , '\\n')\n",
    "\n",
    "print('Employee 2 pay:')\n",
    "print(emp2.pay)\n",
    "emp2.apply_raise()\n",
    "print(emp2.pay , '\\n')\n",
    "\n",
    "# Now we can see that the pay was 5% for emplyee 1, and 4% for employee 2."
   ]
  },
  {
   "cell_type": "code",
   "execution_count": 85,
   "id": "3d76ed80",
   "metadata": {},
   "outputs": [
    {
     "name": "stdout",
     "output_type": "stream",
     "text": [
      "0\n",
      "2\n"
     ]
    }
   ],
   "source": [
    "# Now let look at class variable where it would not make sence to you \n",
    "# use self. \n",
    "\n",
    "class Employee:\n",
    "    \n",
    "    #Below is the class variable that we are defining.\n",
    "    raise_amount = 1.04\n",
    "    \n",
    "    num_of_emps = 0\n",
    "    \n",
    "    def __init__(self, first, last, pay):\n",
    "        self.fname = first\n",
    "        self.lname = last\n",
    "        self.email = first + \".\" + last + \"@company.com\"\n",
    "        self.pay = pay\n",
    "        \n",
    "        Employee.num_of_emps += 1 \n",
    "    \n",
    "    def fullname(self):\n",
    "        return \"{} {}\".format(self.fname, self.lname)\n",
    "    \n",
    "    def apply_raise(self):\n",
    "        self.pay = int(self.pay * self.raise_amount)\n",
    "    \n",
    "print(Employee.num_of_emps)\n",
    "    \n",
    "emp1 = Employee('Corey' , 'Schafer', 50000)\n",
    "emp2 = Employee('Test', 'User', 40000) \n",
    "\n",
    "print(Employee.num_of_emps)"
   ]
  },
  {
   "cell_type": "markdown",
   "id": "0f0f3f6f",
   "metadata": {},
   "source": [
    "# Tutorial 3: Classmethod Staticmethods"
   ]
  },
  {
   "cell_type": "code",
   "execution_count": 97,
   "id": "60818134",
   "metadata": {},
   "outputs": [
    {
     "name": "stdout",
     "output_type": "stream",
     "text": [
      "1.04\n",
      "1.04\n",
      "1.04\n"
     ]
    }
   ],
   "source": [
    "class Employee:\n",
    "    \n",
    "    raise_amt = 1.04\n",
    "    num_of_emps = 0\n",
    "    \n",
    "    def __init__(self, first, last, pay):\n",
    "        self.fname = first\n",
    "        self.lname = last\n",
    "        self.email = first + \".\" + last + \"@company.com\"\n",
    "        self.pay = pay\n",
    "        \n",
    "        Employee.num_of_emps += 1 \n",
    "    \n",
    "    def fullname(self):\n",
    "        return \"{} {}\".format(self.fname, self.lname)\n",
    "    \n",
    "    def apply_raise(self):\n",
    "        self.pay = int(self.pay * self.raise_amt)\n",
    "    \n",
    "    # Below is how to define a class method. We add the decorator\n",
    "    # @classmethod.\n",
    "    @classmethod\n",
    "    def set_raise_amt(cls, amount):\n",
    "        cls.raise_amt = amount\n",
    "    \n",
    "emp1 = Employee('Corey' , 'Schafer', 50000)\n",
    "emp2 = Employee('Test', 'User', 40000) \n",
    "\n",
    "print(Employee.raise_amt)\n",
    "print(emp1.raise_amt)\n",
    "print(emp2.raise_amt)"
   ]
  },
  {
   "cell_type": "code",
   "execution_count": 99,
   "id": "8c4b9439",
   "metadata": {},
   "outputs": [
    {
     "name": "stdout",
     "output_type": "stream",
     "text": [
      "1.05\n",
      "1.05\n",
      "1.05\n"
     ]
    }
   ],
   "source": [
    "Employee.set_raise_amt(1.05)\n",
    "\n",
    "print(Employee.raise_amt)\n",
    "print(emp1.raise_amt)\n",
    "print(emp2.raise_amt)\n",
    "\n",
    "# Using this class method is the same as Employee.raise_amt = 1.05.\n",
    "# But now we are using a classmethod to do that instead."
   ]
  },
  {
   "cell_type": "code",
   "execution_count": 100,
   "id": "45f6a4ad",
   "metadata": {},
   "outputs": [
    {
     "name": "stdout",
     "output_type": "stream",
     "text": [
      "1.05\n",
      "1.05\n",
      "1.05\n"
     ]
    }
   ],
   "source": [
    "# You can run classmethods from instances as well. It doesn't make sence to\n",
    "# do this and people do not do this often.\n",
    "\n",
    "emp1.set_raise_amt(1.05)\n",
    "\n",
    "print(Employee.raise_amt)\n",
    "print(emp1.raise_amt)\n",
    "print(emp2.raise_amt)\n",
    "\n",
    "# Not that even though the classmethod was run on the instance emp1 it \n",
    "# was applied to all instances. That is the raise amount was changed to 5%\n",
    "# for emp1 and emp2."
   ]
  },
  {
   "cell_type": "code",
   "execution_count": 101,
   "id": "8b30ee1a",
   "metadata": {},
   "outputs": [
    {
     "name": "stdout",
     "output_type": "stream",
     "text": [
      "70000\n",
      "Joe.Doe@company.com\n"
     ]
    }
   ],
   "source": [
    "# People use classmethods as alternative constructors. \n",
    "\n",
    "emp_str_1 = 'Joe-Doe-70000'\n",
    "emp_str_2 = 'Steve-Smith-30000'\n",
    "emp_str_3 = 'Jane-Doe-90000'\n",
    "\n",
    "first, last, pay = emp_str_1.split('-')\n",
    "\n",
    "new_emp_1 = Employee(first, last, pay)\n",
    "\n",
    "print(new_emp_1.pay)\n",
    "print(new_emp_1.email)"
   ]
  },
  {
   "cell_type": "code",
   "execution_count": 109,
   "id": "323144d5",
   "metadata": {},
   "outputs": [
    {
     "name": "stdout",
     "output_type": "stream",
     "text": [
      "Joe.Doe@company.com\n",
      "70000\n"
     ]
    }
   ],
   "source": [
    "class Employee:\n",
    "    \n",
    "    raise_amt = 1.04\n",
    "    num_of_emps = 0\n",
    "    \n",
    "    def __init__(self, first, last, pay):\n",
    "        self.fname = first\n",
    "        self.lname = last\n",
    "        self.email = first + \".\" + last + \"@company.com\"\n",
    "        self.pay = pay\n",
    "        \n",
    "        Employee.num_of_emps += 1 \n",
    "    \n",
    "    def fullname(self):\n",
    "        return \"{} {}\".format(self.fname, self.lname)\n",
    "    \n",
    "    def apply_raise(self):\n",
    "        self.pay = int(self.pay * self.raise_amt)\n",
    "    \n",
    "    @classmethod\n",
    "    def set_raise_amt(cls, amount):\n",
    "        cls.raise_amt = amount\n",
    "    \n",
    "    # This is sometime called an alternative constructor.\n",
    "    # This could be called a \"from_string\" alternative constructor.\n",
    "    @classmethod\n",
    "    def from_string(cls, emp_str):\n",
    "        first, last, pay = emp_str.split('-')\n",
    "        return cls(first, last, pay)\n",
    "        \n",
    "new_emp_1 = Employee.from_string(emp_str_1)\n",
    "\n",
    "print(new_emp_1.email)\n",
    "print(new_emp_1.pay)"
   ]
  },
  {
   "cell_type": "code",
   "execution_count": 113,
   "id": "3b8cd4c4",
   "metadata": {},
   "outputs": [],
   "source": [
    "class Employee:\n",
    "    \n",
    "    raise_amt = 1.04\n",
    "    num_of_emps = 0\n",
    "    \n",
    "    def __init__(self, first, last, pay):\n",
    "        self.fname = first\n",
    "        self.lname = last\n",
    "        self.email = first + \".\" + last + \"@company.com\"\n",
    "        self.pay = pay\n",
    "        \n",
    "        Employee.num_of_emps += 1 \n",
    "    \n",
    "    def fullname(self):\n",
    "        return \"{} {}\".format(self.fname, self.lname)\n",
    "    \n",
    "    def apply_raise(self):\n",
    "        self.pay = int(self.pay * self.raise_amt)\n",
    "    \n",
    "    @classmethod\n",
    "    def set_raise_amt(cls, amount):\n",
    "        cls.raise_amt = amount\n",
    "        \n",
    "    @classmethod\n",
    "    def from_string(cls, emp_str):\n",
    "        first, last, pay = emp_str.split('-')\n",
    "        return cls(first, last, pay)\n",
    "   \n",
    "    # Static methods don't pass the class or instance. But have some\n",
    "    # logical connection to the class..\n",
    "    @staticmethod\n",
    "    def is_workday(day):\n",
    "        if day.weekday() == 5 or day.weekday() == 6: \n",
    "            return False\n",
    "        return True\n",
    "    \n",
    "emp1 = Employee('Corey' , 'Schafer', 50000)\n",
    "emp2 = Employee('Test', 'User', 40000) "
   ]
  },
  {
   "cell_type": "code",
   "execution_count": 115,
   "id": "f870ba95",
   "metadata": {},
   "outputs": [
    {
     "name": "stdout",
     "output_type": "stream",
     "text": [
      "True\n"
     ]
    }
   ],
   "source": [
    "# We want a function that will take a data time an return whether it \n",
    "# it was a work day or not. This method would not depend on any particular\n",
    "# instance or class so it is a static method. But this method 'is_workday'\n",
    "# still has a logical connection to the employee class.\n",
    "\n",
    "# Sign that a methods should be static is that it doesn't access the \n",
    "# class or the instance anywhere.\n",
    "\n",
    "import datetime\n",
    "\n",
    "my_date= datetime.date(2016,7,11)\n",
    "\n",
    "print(Employee.is_workday(my_date))"
   ]
  },
  {
   "cell_type": "markdown",
   "id": "049b20a6",
   "metadata": {},
   "source": [
    "# Tutorial 4: Inheritance - Creating Subclasses"
   ]
  },
  {
   "cell_type": "markdown",
   "id": "c7d1fb4e",
   "metadata": {},
   "source": [
    "Python class inheritance allows a subclass to 'inherent' attributes\n",
    "and methods from a parent class.\n",
    "\n",
    "This is useful because we can create subclasses, and get all the functionality of the parent class. Then we can overwrite or add compleatly new functionality to the subclass without effecting the parent class in anyway."
   ]
  },
  {
   "cell_type": "code",
   "execution_count": 156,
   "id": "98f20856",
   "metadata": {},
   "outputs": [
    {
     "name": "stdout",
     "output_type": "stream",
     "text": [
      "50000\n",
      "Test.User@company.com\n"
     ]
    }
   ],
   "source": [
    "# We want to get a little more specific and create different types of \n",
    "# employees. In this case we want to creat developers and managers.\n",
    "# These will be good canidates for subclasses because both Developers\n",
    "# and managers are going to have a name, email and salary. These are thing\n",
    "# that the employee class already has.\n",
    "\n",
    "class Employee:\n",
    "    \n",
    "    raise_amt = 1.04\n",
    "    #num_of_emps = 0\n",
    "    \n",
    "    def __init__(self, first, last, pay):\n",
    "        self.fname = first\n",
    "        self.lname = last\n",
    "        self.email = first + \".\" + last + \"@company.com\"\n",
    "        self.pay = pay\n",
    "        \n",
    "        #Employee.num_of_emps += 1 \n",
    "    \n",
    "    def fullname(self):\n",
    "        return \"{} {}\".format(self.fname, self.lname)\n",
    "    \n",
    "    def apply_raise(self):\n",
    "        self.pay = int(self.pay * self.raise_amt)\n",
    "        \n",
    "dev1 = Employee('Corey' , 'Schafer', 50000)\n",
    "dev2 = Employee('Test', 'User', 60000) \n",
    "\n",
    "print(dev1.pay)\n",
    "print(dev2.email)"
   ]
  },
  {
   "cell_type": "code",
   "execution_count": 153,
   "id": "75874514",
   "metadata": {},
   "outputs": [
    {
     "name": "stdout",
     "output_type": "stream",
     "text": [
      "Corey.Schafer@company.com\n",
      "Test.User@company.com\n"
     ]
    }
   ],
   "source": [
    "# Rather than copying and pasting the code from the Employee class into the\n",
    "# the Developer and Managers subclass, we can reuse that code by inheriting\n",
    "# from employee.\n",
    "\n",
    "# When we define the subclass we add the parethesis and pass the Employee \n",
    "# class. \n",
    "class Developer(Employee):\n",
    "    pass\n",
    "\n",
    "dev1 = Developer('Corey' , 'Schafer', 50000)\n",
    "dev2 = Developer('Test', 'User', 60000) \n",
    "\n",
    "print(dev1.email)\n",
    "print(dev2.email)\n",
    "\n"
   ]
  },
  {
   "cell_type": "code",
   "execution_count": 140,
   "id": "03a6d6e0",
   "metadata": {},
   "outputs": [
    {
     "name": "stdout",
     "output_type": "stream",
     "text": [
      "Help on class Developer in module __main__:\n",
      "\n",
      "class Developer(Employee)\n",
      " |  Developer(first, last, pay)\n",
      " |  \n",
      " |  Method resolution order:\n",
      " |      Developer\n",
      " |      Employee\n",
      " |      builtins.object\n",
      " |  \n",
      " |  Methods inherited from Employee:\n",
      " |  \n",
      " |  __init__(self, first, last, pay)\n",
      " |      Initialize self.  See help(type(self)) for accurate signature.\n",
      " |  \n",
      " |  apply_raise(self)\n",
      " |  \n",
      " |  fullname(self)\n",
      " |  \n",
      " |  ----------------------------------------------------------------------\n",
      " |  Data descriptors inherited from Employee:\n",
      " |  \n",
      " |  __dict__\n",
      " |      dictionary for instance variables (if defined)\n",
      " |  \n",
      " |  __weakref__\n",
      " |      list of weak references to the object (if defined)\n",
      " |  \n",
      " |  ----------------------------------------------------------------------\n",
      " |  Data and other attributes inherited from Employee:\n",
      " |  \n",
      " |  raise_amt = 1.04\n",
      "\n",
      "None\n"
     ]
    }
   ],
   "source": [
    "print(help(Developer))\n",
    "\n",
    "# The method resolution order let us know that where attributes and methods\n",
    "# are searched for. \n",
    "\n",
    "# The help function also lets us know what methods are inherited from\n",
    "# the employee class."
   ]
  },
  {
   "cell_type": "code",
   "execution_count": 141,
   "id": "c0da5497",
   "metadata": {},
   "outputs": [
    {
     "name": "stdout",
     "output_type": "stream",
     "text": [
      "50000\n",
      "52000\n"
     ]
    }
   ],
   "source": [
    "print(dev1.pay)\n",
    "dev1.apply_raise()\n",
    "print(dev1.pay)\n",
    "\n",
    "# We can see that the raise amount "
   ]
  },
  {
   "cell_type": "code",
   "execution_count": 142,
   "id": "61d85028",
   "metadata": {},
   "outputs": [
    {
     "name": "stdout",
     "output_type": "stream",
     "text": [
      "50000\n",
      "55000\n"
     ]
    }
   ],
   "source": [
    "# Currently the raise amount is inherited from the employee class.\n",
    "# However, we can define the raiase amount for the developer class.\n",
    "\n",
    "class Developer(Employee):\n",
    "    raise_amt = 1.10\n",
    "\n",
    "dev1 = Developer('Corey' , 'Schafer', 50000)\n",
    "dev2 = Developer('Test', 'User', 60000) \n",
    "\n",
    "\n",
    "print(dev1.pay)\n",
    "dev1.apply_raise()\n",
    "print(dev1.pay)\n",
    "\n",
    "\n",
    "# We can see that the raise amount is the 10% set the Developer class."
   ]
  },
  {
   "cell_type": "code",
   "execution_count": 145,
   "id": "ec118c8b",
   "metadata": {},
   "outputs": [
    {
     "name": "stdout",
     "output_type": "stream",
     "text": [
      "Help on class Developer in module __main__:\n",
      "\n",
      "class Developer(Employee)\n",
      " |  Developer(first, last, pay)\n",
      " |  \n",
      " |  Method resolution order:\n",
      " |      Developer\n",
      " |      Employee\n",
      " |      builtins.object\n",
      " |  \n",
      " |  Data and other attributes defined here:\n",
      " |  \n",
      " |  raise_amt = 1.1\n",
      " |  \n",
      " |  ----------------------------------------------------------------------\n",
      " |  Methods inherited from Employee:\n",
      " |  \n",
      " |  __init__(self, first, last, pay)\n",
      " |      Initialize self.  See help(type(self)) for accurate signature.\n",
      " |  \n",
      " |  apply_raise(self)\n",
      " |  \n",
      " |  fullname(self)\n",
      " |  \n",
      " |  ----------------------------------------------------------------------\n",
      " |  Data descriptors inherited from Employee:\n",
      " |  \n",
      " |  __dict__\n",
      " |      dictionary for instance variables (if defined)\n",
      " |  \n",
      " |  __weakref__\n",
      " |      list of weak references to the object (if defined)\n",
      "\n",
      "None\n"
     ]
    }
   ],
   "source": [
    "print(help(Developer))\n",
    "\n",
    "# We can see the the raise_amt is defined in the Developer class and\n",
    "# is distinct from the raise_amt for the Employee class. \n",
    "# Further the raise_amt is defined in the Developer class and not inherited\n",
    "# from the Employee class."
   ]
  },
  {
   "cell_type": "code",
   "execution_count": 146,
   "id": "b01d5dcf",
   "metadata": {},
   "outputs": [
    {
     "name": "stdout",
     "output_type": "stream",
     "text": [
      "50000\n",
      "52000\n"
     ]
    }
   ],
   "source": [
    "class Developer(Employee):\n",
    "    raise_amt = 1.10\n",
    "\n",
    "# We ar going to define dev1 as an Employee   \n",
    "dev1 = Employee('Corey' , 'Schafer', 50000)\n",
    "dev2 = Developer('Test', 'User', 60000) \n",
    "\n",
    "\n",
    "print(dev1.pay)\n",
    "dev1.apply_raise()\n",
    "print(dev1.pay)\n",
    "\n",
    "# Now we see that the raise_amt was %4 as defined in the Employee class."
   ]
  },
  {
   "cell_type": "markdown",
   "id": "f22912f8",
   "metadata": {},
   "source": [
    "The important thing to take away from here is that by changing the raise_amt for out Developer subclass it did not have any effect on our \n",
    "Employee instances. So the employee subclasses still have a raise_amt of\n",
    "4%.\n",
    "\n",
    "Therefore we can make these changes in our subclass without worrying about breaking anything in our parent class, Employee."
   ]
  },
  {
   "cell_type": "markdown",
   "id": "d11eb7b5",
   "metadata": {},
   "source": [
    "Sometimes we want to intiated our subclass with more information that our partent class can handle.\n",
    "\n",
    "For example, say when we are creating our developers we also want to pass the developers main programming language. But our employee class only take in first, last, and pay. Therefore we have to give the Developer class its own init method."
   ]
  },
  {
   "cell_type": "code",
   "execution_count": 157,
   "id": "d5af0132",
   "metadata": {},
   "outputs": [
    {
     "name": "stdout",
     "output_type": "stream",
     "text": [
      "Python\n",
      "60000\n"
     ]
    }
   ],
   "source": [
    "class Developer(Employee):\n",
    "    raise_amt = 1.10\n",
    "\n",
    "    def __init__(self, first, last, pay, prog_lang):\n",
    "        Employee.fname = first\n",
    "        Employee.lname = last\n",
    "        Employee.pay = pay\n",
    "        self.prog_lang = prog_lang\n",
    "    \n",
    "# We ar going to define dev1 as an Employee   \n",
    "dev1 = Developer('Corey' , 'Schafer', 50000, 'Python')\n",
    "dev2 = Developer('Test', 'User', 60000, 'Java') \n",
    "\n",
    "\n",
    "print(dev1.prog_lang)\n",
    "print(dev1.pay)"
   ]
  },
  {
   "cell_type": "markdown",
   "id": "b5932eb4",
   "metadata": {},
   "source": [
    "Above is one method that is this could be done. Using the super() let the parent class handle the first three arguments."
   ]
  },
  {
   "cell_type": "code",
   "execution_count": 164,
   "id": "5a8f1680",
   "metadata": {},
   "outputs": [
    {
     "name": "stdout",
     "output_type": "stream",
     "text": [
      "Corey.Schafer@company.com\n",
      "Python\n"
     ]
    }
   ],
   "source": [
    "class Developer(Employee):\n",
    "    raise_amt = 1.10\n",
    "\n",
    "    def __init__(self, first, last, pay, prog_lang):\n",
    "        super().__init__(first, last, pay)\n",
    "        #Employee.__init__(self, first, last, pay)\n",
    "        self.prog_lang = prog_lang\n",
    "    \n",
    "# We ar going to define dev1 as an Employee   \n",
    "dev1 = Developer('Corey' , 'Schafer', 50000, 'Python')\n",
    "dev2 = Developer('Test', 'User', 60000, 'Java') \n",
    "\n",
    "print(dev1.email)\n",
    "print(dev1.prog_lang)"
   ]
  },
  {
   "cell_type": "code",
   "execution_count": 167,
   "id": "ea60e821",
   "metadata": {},
   "outputs": [
    {
     "name": "stdout",
     "output_type": "stream",
     "text": [
      "Sue.Smith@company.com\n"
     ]
    }
   ],
   "source": [
    "class Manager(Employee):\n",
    "    \n",
    "    def __init__(self, first, last, pay, employees=None):\n",
    "        super().__init__(first, last, pay)\n",
    "        if employees == None:\n",
    "            self.employees = []\n",
    "        else:\n",
    "            self.employees = employees \n",
    "            \n",
    "    def add_emp(self, emp):\n",
    "        if emp not in self.employees:\n",
    "            self.employees.append(emp)\n",
    "    \n",
    "    def remove_emp(self, emp):\n",
    "        if emp in self.employees:\n",
    "            self.employees.remove(emp)\n",
    "            \n",
    "    def print_emps(self):\n",
    "        for emp in self.employees:\n",
    "            print('-->', emp.fullname())\n",
    "\n",
    "            \n",
    "dev1 = Developer('Corey' , 'Schafer', 50000, 'Python')\n",
    "dev2 = Developer('Test', 'User', 60000, 'Java') \n",
    "\n",
    "mng_1 = Manager('Sue', 'Smith', 90000, [dev1])\n",
    "\n",
    "print(mng_1.email)"
   ]
  },
  {
   "cell_type": "code",
   "execution_count": 170,
   "id": "856044a2",
   "metadata": {},
   "outputs": [
    {
     "name": "stdout",
     "output_type": "stream",
     "text": [
      "--> Test User\n"
     ]
    }
   ],
   "source": [
    "mng_1.add_emp(dev2)\n",
    "mng_1.remove_emp(dev1)\n",
    "mng_1.print_emps()"
   ]
  },
  {
   "cell_type": "code",
   "execution_count": 171,
   "id": "b10d295a",
   "metadata": {},
   "outputs": [
    {
     "name": "stdout",
     "output_type": "stream",
     "text": [
      "True\n"
     ]
    }
   ],
   "source": [
    "print(isinstance(mng_1 , Employee))\n"
   ]
  },
  {
   "cell_type": "markdown",
   "id": "68343ce4",
   "metadata": {},
   "source": [
    "# Tutorial 5: Special (Magic/Dunder) Methods"
   ]
  },
  {
   "cell_type": "code",
   "execution_count": 2,
   "id": "e42680d9",
   "metadata": {},
   "outputs": [
    {
     "name": "stdout",
     "output_type": "stream",
     "text": [
      "<__main__.Employee object at 0x7fbf7ca81160>\n"
     ]
    }
   ],
   "source": [
    "class Employee:\n",
    "    \n",
    "    raise_amt = 1.04\n",
    "    #num_of_emps = 0\n",
    "    \n",
    "    def __init__(self, first, last, pay):\n",
    "        self.fname = first\n",
    "        self.lname = last\n",
    "        self.email = first + \".\" + last + \"@company.com\"\n",
    "        self.pay = pay\n",
    "        \n",
    "        #Employee.num_of_emps += 1 \n",
    "    \n",
    "    def fullname(self):\n",
    "        return \"{} {}\".format(self.fname, self.lname)\n",
    "    \n",
    "    def apply_raise(self):\n",
    "        self.pay = int(self.pay * self.raise_amt)\n",
    "        \n",
    "        \n",
    "dev1 = Employee('Corey' , 'Schafer', 50000)\n",
    "dev2 = Employee('Test', 'User', 60000) \n",
    "\n",
    "print( dev1 )\n",
    "        "
   ]
  },
  {
   "cell_type": "markdown",
   "id": "ff206e39",
   "metadata": {},
   "source": [
    "### Introduction"
   ]
  },
  {
   "cell_type": "markdown",
   "id": "7e689c79",
   "metadata": {},
   "source": [
    "When the code\n",
    "\n",
    "print( 1 + 2 )\n",
    "\n",
    "print( 'a' + 'b' ) \n",
    "\n",
    "is run the behavior of the add function is different for a string and interger.\n",
    "\n",
    "Furthermore, we would like\n",
    "\n",
    "print( dev1 ) \n",
    "\n",
    "to return something that is more user friendly.\n",
    "\n",
    "Special methods allow us to do this, and require the the function be surounded by double underscores (dunder). Examples would be the \"dunder init\" methods witch is implicitly called when a class instance is created. Two other methods that are important are \"dunder str\" and \"dunder repr.\"\n",
    "\n",
    "\"Dunder repr\" is indended to be an unambigous representation of the object, and is used for debugging/logging. It's meant to be seen by other developers. \"Dunder str\" is intended to be a more readible representation of the object, and meant to be an display to the end-user.\n",
    "\n",
    "At the very least your class should have an \"dunder repr\" and if an \"dunder str\" method is called the fall back is the \"dunder repr.\""
   ]
  },
  {
   "cell_type": "code",
   "execution_count": 7,
   "id": "2714e0cd",
   "metadata": {},
   "outputs": [
    {
     "name": "stdout",
     "output_type": "stream",
     "text": [
      "Employee('Corey', 'Schafer', 50000)\n"
     ]
    }
   ],
   "source": [
    "class Employee:\n",
    "    \n",
    "    raise_amt = 1.04\n",
    "    #num_of_emps = 0\n",
    "    \n",
    "    def __init__(self, first, last, pay):\n",
    "        self.first = first\n",
    "        self.l = last\n",
    "        self.email = first + \".\" + last + \"@company.com\"\n",
    "        self.pay = pay\n",
    "        \n",
    "        #Employee.num_of_emps += 1 \n",
    "    \n",
    "    def fullname(self):\n",
    "        return \"{} {}\".format(self.fname, self.lname)\n",
    "    \n",
    "    def apply_raise(self):\n",
    "        self.pay = int(self.pay * self.raise_amt)\n",
    "        \n",
    "    def __repr__(self):\n",
    "        return \"Employee('{}', '{}', {})\".format(self.first, self.last, self.pay)\n",
    "    \n",
    "    #def __str__(self):\n",
    "    #    pass\n",
    "        \n",
    "        \n",
    "dev1 = Employee('Corey' , 'Schafer', 50000)\n",
    "dev2 = Employee('Test', 'User', 60000) \n",
    "\n",
    "print( dev1 )\n",
    "        "
   ]
  },
  {
   "cell_type": "markdown",
   "id": "aa8f1fb3",
   "metadata": {},
   "source": [
    "Note that if \"dunder str\" is not commented out then print( dev1 ) returns an error. Therefore the print function calls \"dunder str\" first. In the case below we define the \"dunder str\" method which is called by the print function."
   ]
  },
  {
   "cell_type": "code",
   "execution_count": 11,
   "id": "b5ef1289",
   "metadata": {},
   "outputs": [
    {
     "name": "stdout",
     "output_type": "stream",
     "text": [
      "Corey Schafer - Corey.Schafer@company.com\n"
     ]
    }
   ],
   "source": [
    "class Employee:\n",
    "    \n",
    "    raise_amt = 1.04\n",
    "    #num_of_emps = 0\n",
    "    \n",
    "    def __init__(self, first, last, pay):\n",
    "        self.first = first\n",
    "        self.last = last\n",
    "        self.email = first + \".\" + last + \"@company.com\"\n",
    "        self.pay = pay\n",
    "        \n",
    "        #Employee.num_of_emps += 1 \n",
    "    \n",
    "    def fullname(self):\n",
    "        return \"{} {}\".format(self.first, self.last)\n",
    "    \n",
    "    def apply_raise(self):\n",
    "        self.pay = int(self.pay * self.raise_amt)\n",
    "        \n",
    "    def __repr__(self):\n",
    "        return \"Employee('{}', '{}', {})\".format(self.first, self.last, self.pay)\n",
    "    \n",
    "    def __str__(self):\n",
    "        return \"{} - {}\".format( self.fullname() , self.email )\n",
    "        \n",
    "        \n",
    "dev1 = Employee('Corey' , 'Schafer', 50000)\n",
    "dev2 = Employee('Test', 'User', 60000) \n",
    "\n",
    "print( dev1 )\n",
    "        "
   ]
  },
  {
   "cell_type": "code",
   "execution_count": 13,
   "id": "53fca1de",
   "metadata": {},
   "outputs": [
    {
     "name": "stdout",
     "output_type": "stream",
     "text": [
      "Corey Schafer - Corey.Schafer@company.com\n",
      "Employee('Corey', 'Schafer', 50000)\n",
      "Employee('Corey', 'Schafer', 50000)\n",
      "Corey Schafer - Corey.Schafer@company.com\n"
     ]
    }
   ],
   "source": [
    "print(str(dev1))\n",
    "print(repr(dev1))\n",
    "\n",
    "print(dev1.__repr__())\n",
    "print(dev1.__str__())"
   ]
  },
  {
   "cell_type": "markdown",
   "id": "c7fead9f",
   "metadata": {},
   "source": [
    "Another common special method is \"dunder add\" which allows us to costomize how addition works for our object."
   ]
  },
  {
   "cell_type": "code",
   "execution_count": 15,
   "id": "5d7bc6b8",
   "metadata": {},
   "outputs": [
    {
     "name": "stdout",
     "output_type": "stream",
     "text": [
      "3\n",
      "3\n"
     ]
    }
   ],
   "source": [
    "print( 1 + 2 )\n",
    "\n",
    "print(int.__add__(1,2))"
   ]
  },
  {
   "cell_type": "code",
   "execution_count": 16,
   "id": "7c8a6c89",
   "metadata": {},
   "outputs": [
    {
     "name": "stdout",
     "output_type": "stream",
     "text": [
      "ab\n",
      "ab\n"
     ]
    }
   ],
   "source": [
    "print('a' + 'b')\n",
    "print(str.__add__('a','b'))"
   ]
  },
  {
   "cell_type": "code",
   "execution_count": 17,
   "id": "1792bab9",
   "metadata": {},
   "outputs": [
    {
     "name": "stdout",
     "output_type": "stream",
     "text": [
      "110000\n"
     ]
    }
   ],
   "source": [
    "class Employee:\n",
    "    \n",
    "    raise_amt = 1.04\n",
    "    #num_of_emps = 0\n",
    "    \n",
    "    def __init__(self, first, last, pay):\n",
    "        self.first = first\n",
    "        self.last = last\n",
    "        self.email = first + \".\" + last + \"@company.com\"\n",
    "        self.pay = pay\n",
    "        \n",
    "        #Employee.num_of_emps += 1 \n",
    "    \n",
    "    def fullname(self):\n",
    "        return \"{} {}\".format(self.first, self.last)\n",
    "    \n",
    "    def apply_raise(self):\n",
    "        self.pay = int(self.pay * self.raise_amt)\n",
    "        \n",
    "    def __repr__(self):\n",
    "        return \"Employee('{}', '{}', {})\".format(self.first, self.last, self.pay)\n",
    "    \n",
    "    def __str__(self):\n",
    "        return \"{} - {}\".format( self.fullname() , self.email )\n",
    "    \n",
    "    def __add__(self , other):\n",
    "        return self.pay + other.pay\n",
    "        \n",
    "        \n",
    "dev1 = Employee('Corey' , 'Schafer', 50000)\n",
    "dev2 = Employee('Test', 'User', 60000) \n",
    "\n",
    "print(dev1+dev2)"
   ]
  },
  {
   "cell_type": "markdown",
   "id": "1fc3dd88",
   "metadata": {},
   "source": [
    "Another example of special method for strings is the \"len\" function. For our employee class, we will define \"dunder len\" to return the length of an employee's full name."
   ]
  },
  {
   "cell_type": "code",
   "execution_count": 20,
   "id": "c665214e",
   "metadata": {},
   "outputs": [
    {
     "name": "stdout",
     "output_type": "stream",
     "text": [
      "4\n",
      "4\n",
      "4\n"
     ]
    }
   ],
   "source": [
    "print(len('test'))\n",
    "print(str.__len__('test'))\n",
    "print('test'.__len__())"
   ]
  },
  {
   "cell_type": "code",
   "execution_count": 23,
   "id": "cccf7610",
   "metadata": {},
   "outputs": [
    {
     "data": {
      "text/plain": [
       "13"
      ]
     },
     "execution_count": 23,
     "metadata": {},
     "output_type": "execute_result"
    }
   ],
   "source": [
    "class Employee:\n",
    "    \n",
    "    raise_amt = 1.04\n",
    "    #num_of_emps = 0\n",
    "    \n",
    "    def __init__(self, first, last, pay):\n",
    "        self.first = first\n",
    "        self.last = last\n",
    "        self.email = first + \".\" + last + \"@company.com\"\n",
    "        self.pay = pay\n",
    "        \n",
    "        #Employee.num_of_emps += 1 \n",
    "    \n",
    "    def fullname(self):\n",
    "        return \"{} {}\".format(self.first, self.last)\n",
    "    \n",
    "    def apply_raise(self):\n",
    "        self.pay = int(self.pay * self.raise_amt)\n",
    "        \n",
    "    def __repr__(self):\n",
    "        return \"Employee('{}', '{}', {})\".format(self.first, self.last, self.pay)\n",
    "    \n",
    "    def __str__(self):\n",
    "        return \"{} - {}\".format( self.fullname() , self.email )\n",
    "    \n",
    "    def __add__(self , other):\n",
    "        return self.pay + other.pay\n",
    "    \n",
    "    def __len__(self):\n",
    "        return len(self.fullname())\n",
    "        \n",
    "        \n",
    "dev1 = Employee('Corey' , 'Schafer', 50000)\n",
    "dev2 = Employee('Test', 'User', 60000) \n",
    "\n",
    "len(dev1)"
   ]
  },
  {
   "cell_type": "markdown",
   "id": "e0da1130",
   "metadata": {},
   "source": [
    "# Tutorial 6: Property Decorators - Getters, Setters, and Deleters"
   ]
  },
  {
   "cell_type": "code",
   "execution_count": 27,
   "id": "92a85843",
   "metadata": {},
   "outputs": [
    {
     "name": "stdout",
     "output_type": "stream",
     "text": [
      "John\n",
      "Smith\n",
      "John.Smith@company.com \n",
      "\n",
      "Jim\n",
      "Smith\n",
      "John.Smith@company.com\n"
     ]
    }
   ],
   "source": [
    "class Employee:\n",
    "    \n",
    "    def __init__(self, first, last, pay):\n",
    "        self.first = first\n",
    "        self.last = last\n",
    "        self.email = first + \".\" + last + \"@company.com\"\n",
    "        self.pay = pay\n",
    "    \n",
    "    def fullname(self):\n",
    "        return \"{} {}\".format(self.first, self.last)\n",
    "    \n",
    "emp_1 = Employee( 'John' , 'Smith' , 50000)\n",
    "\n",
    "print( emp_1.first )\n",
    "print( emp_1.last )\n",
    "print( emp_1.email , '\\n')\n",
    "\n",
    "emp_1.first = 'Jim'\n",
    "\n",
    "print( emp_1.first )\n",
    "print( emp_1.last )\n",
    "print( emp_1.email )"
   ]
  },
  {
   "cell_type": "markdown",
   "id": "d61878a1",
   "metadata": {},
   "source": [
    "We want to be able to updat the email automatically anytime the first or last name changes."
   ]
  },
  {
   "cell_type": "code",
   "execution_count": 32,
   "id": "0ed244d0",
   "metadata": {},
   "outputs": [
    {
     "name": "stdout",
     "output_type": "stream",
     "text": [
      "John\n",
      "Smith\n",
      "John.Smith@company.com \n",
      "\n",
      "Jim\n",
      "Smith\n",
      "Jim.Smith@company.com\n"
     ]
    }
   ],
   "source": [
    "class Employee:\n",
    "    \n",
    "    def __init__(self, first, last, pay):\n",
    "        self.first = first\n",
    "        self.last = last\n",
    "        #self.email = first + \".\" + last + \"@company.com\"\n",
    "        self.pay = pay\n",
    "    \n",
    "    def email(self):\n",
    "        return '{}.{}@company.com'.format(self.first, self.last)\n",
    "    \n",
    "    def fullname(self):\n",
    "        return \"{} {}\".format(self.first, self.last)\n",
    "    \n",
    "emp_1 = Employee( 'John' , 'Smith' , 50000)\n",
    "\n",
    "print( emp_1.first )\n",
    "print( emp_1.last )\n",
    "print( emp_1.email() , '\\n')\n",
    "\n",
    "emp_1.first = 'Jim'\n",
    "\n",
    "print( emp_1.first )\n",
    "print( emp_1.last )\n",
    "print( emp_1.email() )"
   ]
  },
  {
   "cell_type": "markdown",
   "id": "dd08429b",
   "metadata": {},
   "source": [
    "We want to continue accessing the email as an attribute instead of a function to executed. Therefore we add the property decorator."
   ]
  },
  {
   "cell_type": "code",
   "execution_count": 34,
   "id": "72422b38",
   "metadata": {},
   "outputs": [
    {
     "name": "stdout",
     "output_type": "stream",
     "text": [
      "John\n",
      "Smith\n",
      "John Smith\n",
      "John.Smith@company.com \n",
      "\n",
      "Jim\n",
      "Smith\n",
      "Jim Smith\n",
      "Jim.Smith@company.com\n"
     ]
    }
   ],
   "source": [
    "class Employee:\n",
    "    \n",
    "    def __init__(self, first, last, pay):\n",
    "        self.first = first\n",
    "        self.last = last\n",
    "        #self.email = first + \".\" + last + \"@company.com\"\n",
    "        self.pay = pay\n",
    "    \n",
    "    @property\n",
    "    def email(self):\n",
    "        return '{}.{}@company.com'.format(self.first, self.last)\n",
    "    \n",
    "    @property\n",
    "    def fullname(self):\n",
    "        return \"{} {}\".format(self.first, self.last)\n",
    "    \n",
    "emp_1 = Employee( 'John' , 'Smith' , 50000)\n",
    "\n",
    "print( emp_1.first )\n",
    "print( emp_1.last )\n",
    "print( emp_1.fullname )\n",
    "print( emp_1.email , '\\n')\n",
    "\n",
    "emp_1.first = 'Jim'\n",
    "\n",
    "print( emp_1.first )\n",
    "print( emp_1.last )\n",
    "print( emp_1.fullname )\n",
    "print( emp_1.email )"
   ]
  },
  {
   "cell_type": "markdown",
   "id": "7d8dcc08",
   "metadata": {},
   "source": [
    "We want to be able to set the fullname as an attribute and be able to have first, last, and email change. For this we use a setter attriute."
   ]
  },
  {
   "cell_type": "code",
   "execution_count": 35,
   "id": "fbe051c6",
   "metadata": {},
   "outputs": [
    {
     "ename": "AttributeError",
     "evalue": "can't set attribute",
     "output_type": "error",
     "traceback": [
      "\u001b[0;31m---------------------------------------------------------------------------\u001b[0m",
      "\u001b[0;31mAttributeError\u001b[0m                            Traceback (most recent call last)",
      "Cell \u001b[0;32mIn [35], line 19\u001b[0m\n\u001b[1;32m     15\u001b[0m         \u001b[38;5;28;01mreturn\u001b[39;00m \u001b[38;5;124m\"\u001b[39m\u001b[38;5;132;01m{}\u001b[39;00m\u001b[38;5;124m \u001b[39m\u001b[38;5;132;01m{}\u001b[39;00m\u001b[38;5;124m\"\u001b[39m\u001b[38;5;241m.\u001b[39mformat(\u001b[38;5;28mself\u001b[39m\u001b[38;5;241m.\u001b[39mfirst, \u001b[38;5;28mself\u001b[39m\u001b[38;5;241m.\u001b[39mlast)\n\u001b[1;32m     17\u001b[0m emp_1 \u001b[38;5;241m=\u001b[39m Employee( \u001b[38;5;124m'\u001b[39m\u001b[38;5;124mJohn\u001b[39m\u001b[38;5;124m'\u001b[39m , \u001b[38;5;124m'\u001b[39m\u001b[38;5;124mSmith\u001b[39m\u001b[38;5;124m'\u001b[39m , \u001b[38;5;241m50000\u001b[39m)\n\u001b[0;32m---> 19\u001b[0m \u001b[43memp_1\u001b[49m\u001b[38;5;241;43m.\u001b[39;49m\u001b[43mfullname\u001b[49m \u001b[38;5;241m=\u001b[39m \u001b[38;5;124m'\u001b[39m\u001b[38;5;124mCorey Schafer\u001b[39m\u001b[38;5;124m'\u001b[39m\n",
      "\u001b[0;31mAttributeError\u001b[0m: can't set attribute"
     ]
    }
   ],
   "source": [
    "class Employee:\n",
    "    \n",
    "    def __init__(self, first, last, pay):\n",
    "        self.first = first\n",
    "        self.last = last\n",
    "        #self.email = first + \".\" + last + \"@company.com\"\n",
    "        self.pay = pay\n",
    "    \n",
    "    @property\n",
    "    def email(self):\n",
    "        return '{}.{}@company.com'.format(self.first, self.last)\n",
    "    \n",
    "    @property\n",
    "    def fullname(self):\n",
    "        return \"{} {}\".format(self.first, self.last)\n",
    "    \n",
    "emp_1 = Employee( 'John' , 'Smith' , 50000)\n",
    "\n",
    "emp_1.fullname = 'Corey Schafer'"
   ]
  },
  {
   "cell_type": "code",
   "execution_count": 38,
   "id": "f9c4bf0e",
   "metadata": {},
   "outputs": [
    {
     "name": "stdout",
     "output_type": "stream",
     "text": [
      "Corey\n",
      "Schafer\n",
      "Corey Schafer\n",
      "Corey.Schafer@company.com\n"
     ]
    }
   ],
   "source": [
    "class Employee:\n",
    "    \n",
    "    def __init__(self, first, last, pay):\n",
    "        self.first = first\n",
    "        self.last = last\n",
    "        #self.email = first + \".\" + last + \"@company.com\"\n",
    "        self.pay = pay\n",
    "    \n",
    "    @property\n",
    "    def email(self):\n",
    "        return '{}.{}@company.com'.format(self.first, self.last)\n",
    "    \n",
    "    @property\n",
    "    def fullname(self):\n",
    "        return \"{} {}\".format(self.first, self.last)\n",
    "    \n",
    "    @fullname.setter\n",
    "    def fullname(self, name):\n",
    "        first, last = name.split(' ')\n",
    "        self.first = first\n",
    "        self.last = last\n",
    "    \n",
    "emp_1 = Employee( 'John' , 'Smith' , 50000)\n",
    "\n",
    "emp_1.fullname = 'Corey Schafer'\n",
    "\n",
    "print( emp_1.first )\n",
    "print( emp_1.last )\n",
    "print( emp_1.fullname )\n",
    "print( emp_1.email )"
   ]
  },
  {
   "cell_type": "code",
   "execution_count": 42,
   "id": "da64aaf3",
   "metadata": {},
   "outputs": [
    {
     "name": "stdout",
     "output_type": "stream",
     "text": [
      "Corey\n",
      "Schafer\n",
      "Corey Schafer\n",
      "Corey.Schafer@company.com\n"
     ]
    }
   ],
   "source": [
    "class Employee:\n",
    "    \n",
    "    def __init__(self, first, last, pay):\n",
    "        self.first = first\n",
    "        self.last = last\n",
    "        #self.email = first + \".\" + last + \"@company.com\"\n",
    "        self.pay = pay\n",
    "    \n",
    "    @property\n",
    "    def email(self):\n",
    "        return '{}.{}@company.com'.format(self.first, self.last)\n",
    "    \n",
    "    @property\n",
    "    def fullname(self):\n",
    "        return \"{} {}\".format(self.first, self.last)\n",
    "    \n",
    "    @fullname.setter\n",
    "    def fullname(self, name):\n",
    "        first, last = name.split(' ')\n",
    "        self.first = first\n",
    "        self.last = last\n",
    "        \n",
    "    @fullname.deleter\n",
    "    def fullname(self):\n",
    "        print('Deleted Name!')\n",
    "        self.first = None\n",
    "        self.last = None\n",
    "        \n",
    "emp_1 = Employee( 'John' , 'Smith' , 50000)\n",
    "\n",
    "emp_1.fullname = 'Corey Schafer'\n",
    "\n",
    "print( emp_1.first )\n",
    "print( emp_1.last )\n",
    "print( emp_1.fullname )\n",
    "print( emp_1.email )"
   ]
  },
  {
   "cell_type": "code",
   "execution_count": 44,
   "id": "78122727",
   "metadata": {},
   "outputs": [
    {
     "name": "stdout",
     "output_type": "stream",
     "text": [
      "Deleted Name!\n",
      "None\n",
      "None\n",
      "None None\n",
      "None.None@company.com\n"
     ]
    }
   ],
   "source": [
    "del emp_1.fullname\n",
    "\n",
    "print( emp_1.first )\n",
    "print( emp_1.last )\n",
    "print( emp_1.fullname )\n",
    "print( emp_1.email )"
   ]
  },
  {
   "cell_type": "code",
   "execution_count": null,
   "id": "ed7cfe5a",
   "metadata": {},
   "outputs": [],
   "source": []
  }
 ],
 "metadata": {
  "kernelspec": {
   "display_name": "Python 3 (ipykernel)",
   "language": "python",
   "name": "python3"
  },
  "language_info": {
   "codemirror_mode": {
    "name": "ipython",
    "version": 3
   },
   "file_extension": ".py",
   "mimetype": "text/x-python",
   "name": "python",
   "nbconvert_exporter": "python",
   "pygments_lexer": "ipython3",
   "version": "3.9.12"
  }
 },
 "nbformat": 4,
 "nbformat_minor": 5
}
