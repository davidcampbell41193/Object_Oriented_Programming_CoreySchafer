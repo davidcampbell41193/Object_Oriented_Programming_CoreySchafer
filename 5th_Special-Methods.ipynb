{
 "cells": [
  {
   "cell_type": "markdown",
   "id": "68343ce4",
   "metadata": {},
   "source": [
    "# Tutorial 5: Special (Magic/Dunder) Methods"
   ]
  },
  {
   "cell_type": "code",
   "execution_count": 2,
   "id": "e42680d9",
   "metadata": {},
   "outputs": [
    {
     "name": "stdout",
     "output_type": "stream",
     "text": [
      "<__main__.Employee object at 0x7fbf7ca81160>\n"
     ]
    }
   ],
   "source": [
    "class Employee:\n",
    "    \n",
    "    raise_amt = 1.04\n",
    "    #num_of_emps = 0\n",
    "    \n",
    "    def __init__(self, first, last, pay):\n",
    "        self.fname = first\n",
    "        self.lname = last\n",
    "        self.email = first + \".\" + last + \"@company.com\"\n",
    "        self.pay = pay\n",
    "        \n",
    "        #Employee.num_of_emps += 1 \n",
    "    \n",
    "    def fullname(self):\n",
    "        return \"{} {}\".format(self.fname, self.lname)\n",
    "    \n",
    "    def apply_raise(self):\n",
    "        self.pay = int(self.pay * self.raise_amt)\n",
    "        \n",
    "        \n",
    "dev1 = Employee('Corey' , 'Schafer', 50000)\n",
    "dev2 = Employee('Test', 'User', 60000) \n",
    "\n",
    "print( dev1 )\n",
    "        "
   ]
  },
  {
   "cell_type": "markdown",
   "id": "ff206e39",
   "metadata": {},
   "source": [
    "### Introduction"
   ]
  },
  {
   "cell_type": "markdown",
   "id": "7e689c79",
   "metadata": {},
   "source": [
    "When the code\n",
    "\n",
    "print( 1 + 2 )\n",
    "\n",
    "print( 'a' + 'b' ) \n",
    "\n",
    "is run the behavior of the add function is different for a string and interger.\n",
    "\n",
    "Furthermore, we would like\n",
    "\n",
    "print( dev1 ) \n",
    "\n",
    "to return something that is more user friendly.\n",
    "\n",
    "Special methods allow us to do this, and require the the function be surounded by double underscores (dunder). Examples would be the \"dunder init\" methods witch is implicitly called when a class instance is created. Two other methods that are important are \"dunder str\" and \"dunder repr.\"\n",
    "\n",
    "\"Dunder repr\" is indended to be an unambigous representation of the object, and is used for debugging/logging. It's meant to be seen by other developers. \"Dunder str\" is intended to be a more readible representation of the object, and meant to be an display to the end-user.\n",
    "\n",
    "At the very least your class should have an \"dunder repr\" and if an \"dunder str\" method is called the fall back is the \"dunder repr.\""
   ]
  },
  {
   "cell_type": "code",
   "execution_count": 7,
   "id": "2714e0cd",
   "metadata": {},
   "outputs": [
    {
     "name": "stdout",
     "output_type": "stream",
     "text": [
      "Employee('Corey', 'Schafer', 50000)\n"
     ]
    }
   ],
   "source": [
    "class Employee:\n",
    "    \n",
    "    raise_amt = 1.04\n",
    "    #num_of_emps = 0\n",
    "    \n",
    "    def __init__(self, first, last, pay):\n",
    "        self.first = first\n",
    "        self.l = last\n",
    "        self.email = first + \".\" + last + \"@company.com\"\n",
    "        self.pay = pay\n",
    "        \n",
    "        #Employee.num_of_emps += 1 \n",
    "    \n",
    "    def fullname(self):\n",
    "        return \"{} {}\".format(self.fname, self.lname)\n",
    "    \n",
    "    def apply_raise(self):\n",
    "        self.pay = int(self.pay * self.raise_amt)\n",
    "        \n",
    "    def __repr__(self):\n",
    "        return \"Employee('{}', '{}', {})\".format(self.first, self.last, self.pay)\n",
    "    \n",
    "    #def __str__(self):\n",
    "    #    pass\n",
    "        \n",
    "        \n",
    "dev1 = Employee('Corey' , 'Schafer', 50000)\n",
    "dev2 = Employee('Test', 'User', 60000) \n",
    "\n",
    "print( dev1 )\n",
    "        "
   ]
  },
  {
   "cell_type": "markdown",
   "id": "aa8f1fb3",
   "metadata": {},
   "source": [
    "Note that if \"dunder str\" is not commented out then print( dev1 ) returns an error. Therefore the print function calls \"dunder str\" first. In the case below we define the \"dunder str\" method which is called by the print function."
   ]
  },
  {
   "cell_type": "code",
   "execution_count": 11,
   "id": "b5ef1289",
   "metadata": {},
   "outputs": [
    {
     "name": "stdout",
     "output_type": "stream",
     "text": [
      "Corey Schafer - Corey.Schafer@company.com\n"
     ]
    }
   ],
   "source": [
    "class Employee:\n",
    "    \n",
    "    raise_amt = 1.04\n",
    "    #num_of_emps = 0\n",
    "    \n",
    "    def __init__(self, first, last, pay):\n",
    "        self.first = first\n",
    "        self.last = last\n",
    "        self.email = first + \".\" + last + \"@company.com\"\n",
    "        self.pay = pay\n",
    "        \n",
    "        #Employee.num_of_emps += 1 \n",
    "    \n",
    "    def fullname(self):\n",
    "        return \"{} {}\".format(self.first, self.last)\n",
    "    \n",
    "    def apply_raise(self):\n",
    "        self.pay = int(self.pay * self.raise_amt)\n",
    "        \n",
    "    def __repr__(self):\n",
    "        return \"Employee('{}', '{}', {})\".format(self.first, self.last, self.pay)\n",
    "    \n",
    "    def __str__(self):\n",
    "        return \"{} - {}\".format( self.fullname() , self.email )\n",
    "        \n",
    "        \n",
    "dev1 = Employee('Corey' , 'Schafer', 50000)\n",
    "dev2 = Employee('Test', 'User', 60000) \n",
    "\n",
    "print( dev1 )\n",
    "        "
   ]
  },
  {
   "cell_type": "code",
   "execution_count": 13,
   "id": "53fca1de",
   "metadata": {},
   "outputs": [
    {
     "name": "stdout",
     "output_type": "stream",
     "text": [
      "Corey Schafer - Corey.Schafer@company.com\n",
      "Employee('Corey', 'Schafer', 50000)\n",
      "Employee('Corey', 'Schafer', 50000)\n",
      "Corey Schafer - Corey.Schafer@company.com\n"
     ]
    }
   ],
   "source": [
    "print(str(dev1))\n",
    "print(repr(dev1))\n",
    "\n",
    "print(dev1.__repr__())\n",
    "print(dev1.__str__())"
   ]
  },
  {
   "cell_type": "markdown",
   "id": "c7fead9f",
   "metadata": {},
   "source": [
    "Another common special method is \"dunder add\" which allows us to costomize how addition works for our object."
   ]
  },
  {
   "cell_type": "code",
   "execution_count": 15,
   "id": "5d7bc6b8",
   "metadata": {},
   "outputs": [
    {
     "name": "stdout",
     "output_type": "stream",
     "text": [
      "3\n",
      "3\n"
     ]
    }
   ],
   "source": [
    "print( 1 + 2 )\n",
    "\n",
    "print(int.__add__(1,2))"
   ]
  },
  {
   "cell_type": "code",
   "execution_count": 16,
   "id": "7c8a6c89",
   "metadata": {},
   "outputs": [
    {
     "name": "stdout",
     "output_type": "stream",
     "text": [
      "ab\n",
      "ab\n"
     ]
    }
   ],
   "source": [
    "print('a' + 'b')\n",
    "print(str.__add__('a','b'))"
   ]
  },
  {
   "cell_type": "code",
   "execution_count": 17,
   "id": "1792bab9",
   "metadata": {},
   "outputs": [
    {
     "name": "stdout",
     "output_type": "stream",
     "text": [
      "110000\n"
     ]
    }
   ],
   "source": [
    "class Employee:\n",
    "    \n",
    "    raise_amt = 1.04\n",
    "    #num_of_emps = 0\n",
    "    \n",
    "    def __init__(self, first, last, pay):\n",
    "        self.first = first\n",
    "        self.last = last\n",
    "        self.email = first + \".\" + last + \"@company.com\"\n",
    "        self.pay = pay\n",
    "        \n",
    "        #Employee.num_of_emps += 1 \n",
    "    \n",
    "    def fullname(self):\n",
    "        return \"{} {}\".format(self.first, self.last)\n",
    "    \n",
    "    def apply_raise(self):\n",
    "        self.pay = int(self.pay * self.raise_amt)\n",
    "        \n",
    "    def __repr__(self):\n",
    "        return \"Employee('{}', '{}', {})\".format(self.first, self.last, self.pay)\n",
    "    \n",
    "    def __str__(self):\n",
    "        return \"{} - {}\".format( self.fullname() , self.email )\n",
    "    \n",
    "    def __add__(self , other):\n",
    "        return self.pay + other.pay\n",
    "        \n",
    "        \n",
    "dev1 = Employee('Corey' , 'Schafer', 50000)\n",
    "dev2 = Employee('Test', 'User', 60000) \n",
    "\n",
    "print(dev1+dev2)"
   ]
  },
  {
   "cell_type": "markdown",
   "id": "1fc3dd88",
   "metadata": {},
   "source": [
    "Another example of special method for strings is the \"len\" function. For our employee class, we will define \"dunder len\" to return the length of an employee's full name."
   ]
  },
  {
   "cell_type": "code",
   "execution_count": 20,
   "id": "c665214e",
   "metadata": {},
   "outputs": [
    {
     "name": "stdout",
     "output_type": "stream",
     "text": [
      "4\n",
      "4\n",
      "4\n"
     ]
    }
   ],
   "source": [
    "print(len('test'))\n",
    "print(str.__len__('test'))\n",
    "print('test'.__len__())"
   ]
  },
  {
   "cell_type": "code",
   "execution_count": 23,
   "id": "cccf7610",
   "metadata": {},
   "outputs": [
    {
     "data": {
      "text/plain": [
       "13"
      ]
     },
     "execution_count": 23,
     "metadata": {},
     "output_type": "execute_result"
    }
   ],
   "source": [
    "class Employee:\n",
    "    \n",
    "    raise_amt = 1.04\n",
    "    #num_of_emps = 0\n",
    "    \n",
    "    def __init__(self, first, last, pay):\n",
    "        self.first = first\n",
    "        self.last = last\n",
    "        self.email = first + \".\" + last + \"@company.com\"\n",
    "        self.pay = pay\n",
    "        \n",
    "        #Employee.num_of_emps += 1 \n",
    "    \n",
    "    def fullname(self):\n",
    "        return \"{} {}\".format(self.first, self.last)\n",
    "    \n",
    "    def apply_raise(self):\n",
    "        self.pay = int(self.pay * self.raise_amt)\n",
    "        \n",
    "    def __repr__(self):\n",
    "        return \"Employee('{}', '{}', {})\".format(self.first, self.last, self.pay)\n",
    "    \n",
    "    def __str__(self):\n",
    "        return \"{} - {}\".format( self.fullname() , self.email )\n",
    "    \n",
    "    def __add__(self , other):\n",
    "        return self.pay + other.pay\n",
    "    \n",
    "    def __len__(self):\n",
    "        return len(self.fullname())\n",
    "        \n",
    "        \n",
    "dev1 = Employee('Corey' , 'Schafer', 50000)\n",
    "dev2 = Employee('Test', 'User', 60000) \n",
    "\n",
    "len(dev1)"
   ]
  }
 ],
 "metadata": {
  "kernelspec": {
   "display_name": "Python 3 (ipykernel)",
   "language": "python",
   "name": "python3"
  },
  "language_info": {
   "codemirror_mode": {
    "name": "ipython",
    "version": 3
   },
   "file_extension": ".py",
   "mimetype": "text/x-python",
   "name": "python",
   "nbconvert_exporter": "python",
   "pygments_lexer": "ipython3",
   "version": "3.9.12"
  }
 },
 "nbformat": 4,
 "nbformat_minor": 5
}
