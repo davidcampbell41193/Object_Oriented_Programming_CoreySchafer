{
 "cells": [
  {
   "cell_type": "markdown",
   "id": "0f0f3f6f",
   "metadata": {},
   "source": [
    "# Tutorial 3: Classmethod and Staticmethods"
   ]
  },
  {
   "cell_type": "code",
   "execution_count": 97,
   "id": "60818134",
   "metadata": {},
   "outputs": [
    {
     "name": "stdout",
     "output_type": "stream",
     "text": [
      "1.04\n",
      "1.04\n",
      "1.04\n"
     ]
    }
   ],
   "source": [
    "class Employee:\n",
    "    \n",
    "    raise_amt = 1.04\n",
    "    num_of_emps = 0\n",
    "    \n",
    "    def __init__(self, first, last, pay):\n",
    "        self.fname = first\n",
    "        self.lname = last\n",
    "        self.email = first + \".\" + last + \"@company.com\"\n",
    "        self.pay = pay\n",
    "        \n",
    "        Employee.num_of_emps += 1 \n",
    "    \n",
    "    def fullname(self):\n",
    "        return \"{} {}\".format(self.fname, self.lname)\n",
    "    \n",
    "    def apply_raise(self):\n",
    "        self.pay = int(self.pay * self.raise_amt)\n",
    "    \n",
    "    # Below is how to define a class method. We add the decorator\n",
    "    # @classmethod.\n",
    "    @classmethod\n",
    "    def set_raise_amt(cls, amount):\n",
    "        cls.raise_amt = amount\n",
    "    \n",
    "emp1 = Employee('Corey' , 'Schafer', 50000)\n",
    "emp2 = Employee('Test', 'User', 40000) \n",
    "\n",
    "print(Employee.raise_amt)\n",
    "print(emp1.raise_amt)\n",
    "print(emp2.raise_amt)"
   ]
  },
  {
   "cell_type": "code",
   "execution_count": 99,
   "id": "8c4b9439",
   "metadata": {},
   "outputs": [
    {
     "name": "stdout",
     "output_type": "stream",
     "text": [
      "1.05\n",
      "1.05\n",
      "1.05\n"
     ]
    }
   ],
   "source": [
    "Employee.set_raise_amt(1.05)\n",
    "\n",
    "print(Employee.raise_amt)\n",
    "print(emp1.raise_amt)\n",
    "print(emp2.raise_amt)\n",
    "\n",
    "# Using this class method is the same as Employee.raise_amt = 1.05.\n",
    "# But now we are using a classmethod to do that instead."
   ]
  },
  {
   "cell_type": "code",
   "execution_count": 100,
   "id": "45f6a4ad",
   "metadata": {},
   "outputs": [
    {
     "name": "stdout",
     "output_type": "stream",
     "text": [
      "1.05\n",
      "1.05\n",
      "1.05\n"
     ]
    }
   ],
   "source": [
    "# You can run classmethods from instances as well. It doesn't make sence to\n",
    "# do this and people do not do this often.\n",
    "\n",
    "emp1.set_raise_amt(1.05)\n",
    "\n",
    "print(Employee.raise_amt)\n",
    "print(emp1.raise_amt)\n",
    "print(emp2.raise_amt)\n",
    "\n",
    "# Not that even though the classmethod was run on the instance emp1 it \n",
    "# was applied to all instances. That is the raise amount was changed to 5%\n",
    "# for emp1 and emp2."
   ]
  },
  {
   "cell_type": "code",
   "execution_count": 101,
   "id": "8b30ee1a",
   "metadata": {},
   "outputs": [
    {
     "name": "stdout",
     "output_type": "stream",
     "text": [
      "70000\n",
      "Joe.Doe@company.com\n"
     ]
    }
   ],
   "source": [
    "# People use classmethods as alternative constructors. \n",
    "\n",
    "emp_str_1 = 'Joe-Doe-70000'\n",
    "emp_str_2 = 'Steve-Smith-30000'\n",
    "emp_str_3 = 'Jane-Doe-90000'\n",
    "\n",
    "first, last, pay = emp_str_1.split('-')\n",
    "\n",
    "new_emp_1 = Employee(first, last, pay)\n",
    "\n",
    "print(new_emp_1.pay)\n",
    "print(new_emp_1.email)"
   ]
  },
  {
   "cell_type": "code",
   "execution_count": 109,
   "id": "323144d5",
   "metadata": {},
   "outputs": [
    {
     "name": "stdout",
     "output_type": "stream",
     "text": [
      "Joe.Doe@company.com\n",
      "70000\n"
     ]
    }
   ],
   "source": [
    "class Employee:\n",
    "    \n",
    "    raise_amt = 1.04\n",
    "    num_of_emps = 0\n",
    "    \n",
    "    def __init__(self, first, last, pay):\n",
    "        self.fname = first\n",
    "        self.lname = last\n",
    "        self.email = first + \".\" + last + \"@company.com\"\n",
    "        self.pay = pay\n",
    "        \n",
    "        Employee.num_of_emps += 1 \n",
    "    \n",
    "    def fullname(self):\n",
    "        return \"{} {}\".format(self.fname, self.lname)\n",
    "    \n",
    "    def apply_raise(self):\n",
    "        self.pay = int(self.pay * self.raise_amt)\n",
    "    \n",
    "    @classmethod\n",
    "    def set_raise_amt(cls, amount):\n",
    "        cls.raise_amt = amount\n",
    "    \n",
    "    # This is sometime called an alternative constructor.\n",
    "    # This could be called a \"from_string\" alternative constructor.\n",
    "    @classmethod\n",
    "    def from_string(cls, emp_str):\n",
    "        first, last, pay = emp_str.split('-')\n",
    "        return cls(first, last, pay)\n",
    "        \n",
    "new_emp_1 = Employee.from_string(emp_str_1)\n",
    "\n",
    "print(new_emp_1.email)\n",
    "print(new_emp_1.pay)"
   ]
  },
  {
   "cell_type": "code",
   "execution_count": 113,
   "id": "3b8cd4c4",
   "metadata": {},
   "outputs": [],
   "source": [
    "class Employee:\n",
    "    \n",
    "    raise_amt = 1.04\n",
    "    num_of_emps = 0\n",
    "    \n",
    "    def __init__(self, first, last, pay):\n",
    "        self.fname = first\n",
    "        self.lname = last\n",
    "        self.email = first + \".\" + last + \"@company.com\"\n",
    "        self.pay = pay\n",
    "        \n",
    "        Employee.num_of_emps += 1 \n",
    "    \n",
    "    def fullname(self):\n",
    "        return \"{} {}\".format(self.fname, self.lname)\n",
    "    \n",
    "    def apply_raise(self):\n",
    "        self.pay = int(self.pay * self.raise_amt)\n",
    "    \n",
    "    @classmethod\n",
    "    def set_raise_amt(cls, amount):\n",
    "        cls.raise_amt = amount\n",
    "        \n",
    "    @classmethod\n",
    "    def from_string(cls, emp_str):\n",
    "        first, last, pay = emp_str.split('-')\n",
    "        return cls(first, last, pay)\n",
    "   \n",
    "    # Static methods don't pass the class or instance. But have some\n",
    "    # logical connection to the class..\n",
    "    @staticmethod\n",
    "    def is_workday(day):\n",
    "        if day.weekday() == 5 or day.weekday() == 6: \n",
    "            return False\n",
    "        return True\n",
    "    \n",
    "emp1 = Employee('Corey' , 'Schafer', 50000)\n",
    "emp2 = Employee('Test', 'User', 40000) "
   ]
  },
  {
   "cell_type": "code",
   "execution_count": 115,
   "id": "f870ba95",
   "metadata": {},
   "outputs": [
    {
     "name": "stdout",
     "output_type": "stream",
     "text": [
      "True\n"
     ]
    }
   ],
   "source": [
    "# We want a function that will take a data time an return whether it \n",
    "# it was a work day or not. This method would not depend on any particular\n",
    "# instance or class so it is a static method. But this method 'is_workday'\n",
    "# still has a logical connection to the employee class.\n",
    "\n",
    "# Sign that a methods should be static is that it doesn't access the \n",
    "# class or the instance anywhere.\n",
    "\n",
    "import datetime\n",
    "\n",
    "my_date= datetime.date(2016,7,11)\n",
    "\n",
    "print(Employee.is_workday(my_date))"
   ]
  }
 ],
 "metadata": {
  "kernelspec": {
   "display_name": "Python 3 (ipykernel)",
   "language": "python",
   "name": "python3"
  },
  "language_info": {
   "codemirror_mode": {
    "name": "ipython",
    "version": 3
   },
   "file_extension": ".py",
   "mimetype": "text/x-python",
   "name": "python",
   "nbconvert_exporter": "python",
   "pygments_lexer": "ipython3",
   "version": "3.9.12"
  }
 },
 "nbformat": 4,
 "nbformat_minor": 5
}
