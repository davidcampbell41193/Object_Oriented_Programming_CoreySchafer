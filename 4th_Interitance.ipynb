{
 "cells": [
  {
   "cell_type": "markdown",
   "id": "049b20a6",
   "metadata": {},
   "source": [
    "# Tutorial 4: Inheritance - Creating Subclasses"
   ]
  },
  {
   "cell_type": "markdown",
   "id": "c7d1fb4e",
   "metadata": {},
   "source": [
    "Python class inheritance allows a subclass to 'inherent' attributes\n",
    "and methods from a parent class.\n",
    "\n",
    "This is useful because we can create subclasses, and get all the functionality of the parent class. Then we can overwrite or add compleatly new functionality to the subclass without effecting the parent class in anyway."
   ]
  },
  {
   "cell_type": "code",
   "execution_count": 156,
   "id": "98f20856",
   "metadata": {},
   "outputs": [
    {
     "name": "stdout",
     "output_type": "stream",
     "text": [
      "50000\n",
      "Test.User@company.com\n"
     ]
    }
   ],
   "source": [
    "# We want to get a little more specific and create different types of \n",
    "# employees. In this case we want to creat developers and managers.\n",
    "# These will be good canidates for subclasses because both Developers\n",
    "# and managers are going to have a name, email and salary. These are thing\n",
    "# that the employee class already has.\n",
    "\n",
    "class Employee:\n",
    "    \n",
    "    raise_amt = 1.04\n",
    "    #num_of_emps = 0\n",
    "    \n",
    "    def __init__(self, first, last, pay):\n",
    "        self.fname = first\n",
    "        self.lname = last\n",
    "        self.email = first + \".\" + last + \"@company.com\"\n",
    "        self.pay = pay\n",
    "        \n",
    "        #Employee.num_of_emps += 1 \n",
    "    \n",
    "    def fullname(self):\n",
    "        return \"{} {}\".format(self.fname, self.lname)\n",
    "    \n",
    "    def apply_raise(self):\n",
    "        self.pay = int(self.pay * self.raise_amt)\n",
    "        \n",
    "dev1 = Employee('Corey' , 'Schafer', 50000)\n",
    "dev2 = Employee('Test', 'User', 60000) \n",
    "\n",
    "print(dev1.pay)\n",
    "print(dev2.email)"
   ]
  },
  {
   "cell_type": "code",
   "execution_count": 153,
   "id": "75874514",
   "metadata": {},
   "outputs": [
    {
     "name": "stdout",
     "output_type": "stream",
     "text": [
      "Corey.Schafer@company.com\n",
      "Test.User@company.com\n"
     ]
    }
   ],
   "source": [
    "# Rather than copying and pasting the code from the Employee class into the\n",
    "# the Developer and Managers subclass, we can reuse that code by inheriting\n",
    "# from employee.\n",
    "\n",
    "# When we define the subclass we add the parethesis and pass the Employee \n",
    "# class. \n",
    "class Developer(Employee):\n",
    "    pass\n",
    "\n",
    "dev1 = Developer('Corey' , 'Schafer', 50000)\n",
    "dev2 = Developer('Test', 'User', 60000) \n",
    "\n",
    "print(dev1.email)\n",
    "print(dev2.email)\n",
    "\n"
   ]
  },
  {
   "cell_type": "code",
   "execution_count": 140,
   "id": "03a6d6e0",
   "metadata": {},
   "outputs": [
    {
     "name": "stdout",
     "output_type": "stream",
     "text": [
      "Help on class Developer in module __main__:\n",
      "\n",
      "class Developer(Employee)\n",
      " |  Developer(first, last, pay)\n",
      " |  \n",
      " |  Method resolution order:\n",
      " |      Developer\n",
      " |      Employee\n",
      " |      builtins.object\n",
      " |  \n",
      " |  Methods inherited from Employee:\n",
      " |  \n",
      " |  __init__(self, first, last, pay)\n",
      " |      Initialize self.  See help(type(self)) for accurate signature.\n",
      " |  \n",
      " |  apply_raise(self)\n",
      " |  \n",
      " |  fullname(self)\n",
      " |  \n",
      " |  ----------------------------------------------------------------------\n",
      " |  Data descriptors inherited from Employee:\n",
      " |  \n",
      " |  __dict__\n",
      " |      dictionary for instance variables (if defined)\n",
      " |  \n",
      " |  __weakref__\n",
      " |      list of weak references to the object (if defined)\n",
      " |  \n",
      " |  ----------------------------------------------------------------------\n",
      " |  Data and other attributes inherited from Employee:\n",
      " |  \n",
      " |  raise_amt = 1.04\n",
      "\n",
      "None\n"
     ]
    }
   ],
   "source": [
    "print(help(Developer))\n",
    "\n",
    "# The method resolution order let us know that where attributes and methods\n",
    "# are searched for. \n",
    "\n",
    "# The help function also lets us know what methods are inherited from\n",
    "# the employee class."
   ]
  },
  {
   "cell_type": "code",
   "execution_count": 141,
   "id": "c0da5497",
   "metadata": {},
   "outputs": [
    {
     "name": "stdout",
     "output_type": "stream",
     "text": [
      "50000\n",
      "52000\n"
     ]
    }
   ],
   "source": [
    "print(dev1.pay)\n",
    "dev1.apply_raise()\n",
    "print(dev1.pay)\n",
    "\n",
    "# We can see that the raise amount "
   ]
  },
  {
   "cell_type": "code",
   "execution_count": 142,
   "id": "61d85028",
   "metadata": {},
   "outputs": [
    {
     "name": "stdout",
     "output_type": "stream",
     "text": [
      "50000\n",
      "55000\n"
     ]
    }
   ],
   "source": [
    "# Currently the raise amount is inherited from the employee class.\n",
    "# However, we can define the raiase amount for the developer class.\n",
    "\n",
    "class Developer(Employee):\n",
    "    raise_amt = 1.10\n",
    "\n",
    "dev1 = Developer('Corey' , 'Schafer', 50000)\n",
    "dev2 = Developer('Test', 'User', 60000) \n",
    "\n",
    "\n",
    "print(dev1.pay)\n",
    "dev1.apply_raise()\n",
    "print(dev1.pay)\n",
    "\n",
    "\n",
    "# We can see that the raise amount is the 10% set the Developer class."
   ]
  },
  {
   "cell_type": "code",
   "execution_count": 145,
   "id": "ec118c8b",
   "metadata": {},
   "outputs": [
    {
     "name": "stdout",
     "output_type": "stream",
     "text": [
      "Help on class Developer in module __main__:\n",
      "\n",
      "class Developer(Employee)\n",
      " |  Developer(first, last, pay)\n",
      " |  \n",
      " |  Method resolution order:\n",
      " |      Developer\n",
      " |      Employee\n",
      " |      builtins.object\n",
      " |  \n",
      " |  Data and other attributes defined here:\n",
      " |  \n",
      " |  raise_amt = 1.1\n",
      " |  \n",
      " |  ----------------------------------------------------------------------\n",
      " |  Methods inherited from Employee:\n",
      " |  \n",
      " |  __init__(self, first, last, pay)\n",
      " |      Initialize self.  See help(type(self)) for accurate signature.\n",
      " |  \n",
      " |  apply_raise(self)\n",
      " |  \n",
      " |  fullname(self)\n",
      " |  \n",
      " |  ----------------------------------------------------------------------\n",
      " |  Data descriptors inherited from Employee:\n",
      " |  \n",
      " |  __dict__\n",
      " |      dictionary for instance variables (if defined)\n",
      " |  \n",
      " |  __weakref__\n",
      " |      list of weak references to the object (if defined)\n",
      "\n",
      "None\n"
     ]
    }
   ],
   "source": [
    "print(help(Developer))\n",
    "\n",
    "# We can see the the raise_amt is defined in the Developer class and\n",
    "# is distinct from the raise_amt for the Employee class. \n",
    "# Further the raise_amt is defined in the Developer class and not inherited\n",
    "# from the Employee class."
   ]
  },
  {
   "cell_type": "code",
   "execution_count": 146,
   "id": "b01d5dcf",
   "metadata": {},
   "outputs": [
    {
     "name": "stdout",
     "output_type": "stream",
     "text": [
      "50000\n",
      "52000\n"
     ]
    }
   ],
   "source": [
    "class Developer(Employee):\n",
    "    raise_amt = 1.10\n",
    "\n",
    "# We ar going to define dev1 as an Employee   \n",
    "dev1 = Employee('Corey' , 'Schafer', 50000)\n",
    "dev2 = Developer('Test', 'User', 60000) \n",
    "\n",
    "\n",
    "print(dev1.pay)\n",
    "dev1.apply_raise()\n",
    "print(dev1.pay)\n",
    "\n",
    "# Now we see that the raise_amt was %4 as defined in the Employee class."
   ]
  },
  {
   "cell_type": "markdown",
   "id": "f22912f8",
   "metadata": {},
   "source": [
    "The important thing to take away from here is that by changing the raise_amt for out Developer subclass it did not have any effect on our \n",
    "Employee instances. So the employee subclasses still have a raise_amt of\n",
    "4%.\n",
    "\n",
    "Therefore we can make these changes in our subclass without worrying about breaking anything in our parent class, Employee."
   ]
  },
  {
   "cell_type": "markdown",
   "id": "d11eb7b5",
   "metadata": {},
   "source": [
    "Sometimes we want to intiated our subclass with more information that our partent class can handle.\n",
    "\n",
    "For example, say when we are creating our developers we also want to pass the developers main programming language. But our employee class only take in first, last, and pay. Therefore we have to give the Developer class its own init method."
   ]
  },
  {
   "cell_type": "code",
   "execution_count": 157,
   "id": "d5af0132",
   "metadata": {},
   "outputs": [
    {
     "name": "stdout",
     "output_type": "stream",
     "text": [
      "Python\n",
      "60000\n"
     ]
    }
   ],
   "source": [
    "class Developer(Employee):\n",
    "    raise_amt = 1.10\n",
    "\n",
    "    def __init__(self, first, last, pay, prog_lang):\n",
    "        Employee.fname = first\n",
    "        Employee.lname = last\n",
    "        Employee.pay = pay\n",
    "        self.prog_lang = prog_lang\n",
    "    \n",
    "# We ar going to define dev1 as an Employee   \n",
    "dev1 = Developer('Corey' , 'Schafer', 50000, 'Python')\n",
    "dev2 = Developer('Test', 'User', 60000, 'Java') \n",
    "\n",
    "\n",
    "print(dev1.prog_lang)\n",
    "print(dev1.pay)"
   ]
  },
  {
   "cell_type": "markdown",
   "id": "b5932eb4",
   "metadata": {},
   "source": [
    "Above is one method that is this could be done. Using the super() let the parent class handle the first three arguments."
   ]
  },
  {
   "cell_type": "code",
   "execution_count": 164,
   "id": "5a8f1680",
   "metadata": {},
   "outputs": [
    {
     "name": "stdout",
     "output_type": "stream",
     "text": [
      "Corey.Schafer@company.com\n",
      "Python\n"
     ]
    }
   ],
   "source": [
    "class Developer(Employee):\n",
    "    raise_amt = 1.10\n",
    "\n",
    "    def __init__(self, first, last, pay, prog_lang):\n",
    "        super().__init__(first, last, pay)\n",
    "        #Employee.__init__(self, first, last, pay)\n",
    "        self.prog_lang = prog_lang\n",
    "    \n",
    "# We ar going to define dev1 as an Employee   \n",
    "dev1 = Developer('Corey' , 'Schafer', 50000, 'Python')\n",
    "dev2 = Developer('Test', 'User', 60000, 'Java') \n",
    "\n",
    "print(dev1.email)\n",
    "print(dev1.prog_lang)"
   ]
  },
  {
   "cell_type": "code",
   "execution_count": 167,
   "id": "ea60e821",
   "metadata": {},
   "outputs": [
    {
     "name": "stdout",
     "output_type": "stream",
     "text": [
      "Sue.Smith@company.com\n"
     ]
    }
   ],
   "source": [
    "class Manager(Employee):\n",
    "    \n",
    "    def __init__(self, first, last, pay, employees=None):\n",
    "        super().__init__(first, last, pay)\n",
    "        if employees == None:\n",
    "            self.employees = []\n",
    "        else:\n",
    "            self.employees = employees \n",
    "            \n",
    "    def add_emp(self, emp):\n",
    "        if emp not in self.employees:\n",
    "            self.employees.append(emp)\n",
    "    \n",
    "    def remove_emp(self, emp):\n",
    "        if emp in self.employees:\n",
    "            self.employees.remove(emp)\n",
    "            \n",
    "    def print_emps(self):\n",
    "        for emp in self.employees:\n",
    "            print('-->', emp.fullname())\n",
    "\n",
    "            \n",
    "dev1 = Developer('Corey' , 'Schafer', 50000, 'Python')\n",
    "dev2 = Developer('Test', 'User', 60000, 'Java') \n",
    "\n",
    "mng_1 = Manager('Sue', 'Smith', 90000, [dev1])\n",
    "\n",
    "print(mng_1.email)"
   ]
  },
  {
   "cell_type": "code",
   "execution_count": 170,
   "id": "856044a2",
   "metadata": {},
   "outputs": [
    {
     "name": "stdout",
     "output_type": "stream",
     "text": [
      "--> Test User\n"
     ]
    }
   ],
   "source": [
    "mng_1.add_emp(dev2)\n",
    "mng_1.remove_emp(dev1)\n",
    "mng_1.print_emps()"
   ]
  },
  {
   "cell_type": "code",
   "execution_count": 171,
   "id": "b10d295a",
   "metadata": {},
   "outputs": [
    {
     "name": "stdout",
     "output_type": "stream",
     "text": [
      "True\n"
     ]
    }
   ],
   "source": [
    "print(isinstance(mng_1 , Employee))\n"
   ]
  }
 ],
 "metadata": {
  "kernelspec": {
   "display_name": "Python 3 (ipykernel)",
   "language": "python",
   "name": "python3"
  },
  "language_info": {
   "codemirror_mode": {
    "name": "ipython",
    "version": 3
   },
   "file_extension": ".py",
   "mimetype": "text/x-python",
   "name": "python",
   "nbconvert_exporter": "python",
   "pygments_lexer": "ipython3",
   "version": "3.9.12"
  }
 },
 "nbformat": 4,
 "nbformat_minor": 5
}
