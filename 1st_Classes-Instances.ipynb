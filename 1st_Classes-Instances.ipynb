{
 "cells": [
  {
   "cell_type": "markdown",
   "id": "91bb7ac5",
   "metadata": {},
   "source": [
    "# Tutorial One: Classes and Instances"
   ]
  },
  {
   "cell_type": "code",
   "execution_count": 14,
   "id": "9f197aa1",
   "metadata": {},
   "outputs": [
    {
     "name": "stdout",
     "output_type": "stream",
     "text": [
      "{'__module__': '__main__', '__dict__': <attribute '__dict__' of 'Employee' objects>, '__weakref__': <attribute '__weakref__' of 'Employee' objects>, '__doc__': None}\n"
     ]
    }
   ],
   "source": [
    "class Employee:\n",
    "    pass\n",
    "\n",
    "emp1 = Employee()\n",
    "emp2 = Employee()\n",
    "\n",
    "\n",
    "\"\"\"\n",
    "Note that we do not see an initmet \n",
    "\"\"\"\n",
    "print(Employee.__dict__)"
   ]
  },
  {
   "cell_type": "code",
   "execution_count": 9,
   "id": "e7a53f76",
   "metadata": {},
   "outputs": [],
   "source": [
    "emp1.fname = \"Corey\"\n",
    "emp1.lname = \"Schafer\"\n",
    "emp1.pay = 50000\n",
    "\n",
    "emp2.first = \"Test\"\n",
    "emp2.last = \"User\"\n",
    "emp2.pay = 60000"
   ]
  },
  {
   "cell_type": "code",
   "execution_count": 10,
   "id": "639d1ab9",
   "metadata": {},
   "outputs": [
    {
     "name": "stdout",
     "output_type": "stream",
     "text": [
      "{'fname': 'Corey', 'lname': 'Schafer', 'pay': 50000}\n",
      "{'first': 'Test', 'last': 'User', 'pay': 60000}\n"
     ]
    }
   ],
   "source": [
    "print(emp1.__dict__)\n",
    "print(emp2.__dict__)"
   ]
  },
  {
   "cell_type": "code",
   "execution_count": 24,
   "id": "ee8d38bb",
   "metadata": {},
   "outputs": [],
   "source": [
    "# We don't want to set up these variables each time.\n",
    "# So we use an initmit. In other languages it is called an constructor.\n",
    "\n",
    "class Employee:\n",
    "    \n",
    "    def __init__(self, first, last, pay):\n",
    "        self.fname = first\n",
    "        self.lname = last\n",
    "        self.email = first + \".\" + last + \"@company.com\"\n",
    "        self.pay = pay\n",
    "    \n",
    "#\"\"\"\n",
    "#The fname, lname, email, and pay are all attributes of our class.\n",
    "#\"\"\"    "
   ]
  },
  {
   "cell_type": "code",
   "execution_count": 25,
   "id": "9ff4688a",
   "metadata": {},
   "outputs": [],
   "source": [
    "emp1 = Employee('Corey' , 'Schafer', 50000)\n",
    "emp2 = Employee('Test', 'User', 40000)"
   ]
  },
  {
   "cell_type": "code",
   "execution_count": 26,
   "id": "d667e31d",
   "metadata": {},
   "outputs": [
    {
     "name": "stdout",
     "output_type": "stream",
     "text": [
      "{'__module__': '__main__', '__init__': <function Employee.__init__ at 0x7fb97fd97670>, '__dict__': <attribute '__dict__' of 'Employee' objects>, '__weakref__': <attribute '__weakref__' of 'Employee' objects>, '__doc__': None}\n"
     ]
    }
   ],
   "source": [
    "#\"\"\"\n",
    "#We can see that an initmet was added to the dictionary of our Employee \n",
    "#class.\n",
    "#\"\"\"\n",
    "\n",
    "print(Employee.__dict__)"
   ]
  },
  {
   "cell_type": "code",
   "execution_count": 28,
   "id": "58409229",
   "metadata": {},
   "outputs": [
    {
     "name": "stdout",
     "output_type": "stream",
     "text": [
      "Test User\n"
     ]
    }
   ],
   "source": [
    "#\"\"\"\n",
    "#Let says that we want to be able to perform some kind of action on our \n",
    "#class. To do that we can add some methods to our class.\n",
    "\n",
    "#In this example we want the ability to disply the full name of an\n",
    "#employee.\n",
    "\n",
    "#We can do it manually out side class.\n",
    "#\"\"\"\n",
    "\n",
    "print('{} {}'.format(emp2.fname , emp2.lname))"
   ]
  },
  {
   "cell_type": "code",
   "execution_count": 40,
   "id": "c6bb3efc",
   "metadata": {},
   "outputs": [],
   "source": [
    "# We can create a method in our class to display the full name.\n",
    "\n",
    "# Each method within a class automatically takes in the instance as \n",
    "# the first argument. This is the case with the full name function.\n",
    "\n",
    "class Employee:\n",
    "    \n",
    "    def __init__(self, first, last, pay):\n",
    "        self.fname = first\n",
    "        self.lname = last\n",
    "        self.email = first + \".\" + last + \"@company.com\"\n",
    "        self.pay = pay\n",
    "    \n",
    "    def fullname(self):\n",
    "        return \"{} {}\".format(self.fname, self.lname)\n",
    "    "
   ]
  },
  {
   "cell_type": "code",
   "execution_count": 41,
   "id": "0dc6516d",
   "metadata": {},
   "outputs": [
    {
     "name": "stdout",
     "output_type": "stream",
     "text": [
      "{'fname': 'Corey', 'lname': 'Schafer', 'email': 'Corey.Schafer@company.com', 'pay': 50000}\n"
     ]
    }
   ],
   "source": [
    "#print(emp1.fullname())\n",
    "print(emp1.__dict__)"
   ]
  },
  {
   "cell_type": "code",
   "execution_count": 44,
   "id": "7b4a310b",
   "metadata": {},
   "outputs": [],
   "source": [
    "# Note the error we have re run the instance of the class because it \n",
    "# does not currently include the fullname function in its dictionary.\n",
    "\n",
    "emp1 = Employee('Corey' , 'Schafer', 50000)\n",
    "emp2 = Employee('Test', 'User', 40000) "
   ]
  },
  {
   "cell_type": "code",
   "execution_count": 45,
   "id": "25c12fa5",
   "metadata": {},
   "outputs": [
    {
     "name": "stdout",
     "output_type": "stream",
     "text": [
      "{'__module__': '__main__', '__init__': <function Employee.__init__ at 0x7fb97faedca0>, 'fullname': <function Employee.fullname at 0x7fb97faedd30>, '__dict__': <attribute '__dict__' of 'Employee' objects>, '__weakref__': <attribute '__weakref__' of 'Employee' objects>, '__doc__': None}\n"
     ]
    }
   ],
   "source": [
    "#print(emp1.__dict__)\n",
    "\n",
    "# Now we can see the function 'fullname' is included in the \n",
    "print(Employee.__dict__)"
   ]
  },
  {
   "cell_type": "code",
   "execution_count": 54,
   "id": "7e37fd61",
   "metadata": {},
   "outputs": [
    {
     "name": "stdout",
     "output_type": "stream",
     "text": [
      "Corey Schafer \n",
      "\n",
      "<bound method Employee.fullname of <__main__.Employee object at 0x7fb97fbadf10>> \n",
      "\n",
      "<function Employee.fullname at 0x7fb97faedd30> \n",
      "\n",
      "Corey Schafer \n",
      "\n",
      "Test User \n",
      "\n",
      "Test User\n"
     ]
    }
   ],
   "source": [
    "print(emp1.fullname() , '\\n')\n",
    "print(emp1.fullname , '\\n')\n",
    "print(Employee.fullname , '\\n')\n",
    "print(Employee.fullname(emp1), '\\n')\n",
    "print(emp2.fullname() , '\\n')\n",
    "print(Employee.fullname(emp2))\n",
    "\n",
    "# Using this fullname method in the Employee class we defined\n",
    "# it is now easier to print the full name for each of our employee.\n",
    "# Note that there are two ways that we can use the fullname method.\n",
    "# Employee.fullname(emp) == emp.fullname()\n",
    "\n",
    "# Note that we need the paratheses to run the method on the instance\n",
    "# of the class (ie. emp.fullname() ). Rather than to access the method \n",
    "# as an attributes of the class (ie. emp.fullname)."
   ]
  },
  {
   "cell_type": "code",
   "execution_count": 56,
   "id": "42fa6e90",
   "metadata": {},
   "outputs": [
    {
     "ename": "TypeError",
     "evalue": "fullname() takes 0 positional arguments but 1 was given",
     "output_type": "error",
     "traceback": [
      "\u001b[0;31m---------------------------------------------------------------------------\u001b[0m",
      "\u001b[0;31mTypeError\u001b[0m                                 Traceback (most recent call last)",
      "Cell \u001b[0;32mIn [56], line 19\u001b[0m\n\u001b[1;32m     16\u001b[0m emp1 \u001b[38;5;241m=\u001b[39m Employee(\u001b[38;5;124m'\u001b[39m\u001b[38;5;124mCorey\u001b[39m\u001b[38;5;124m'\u001b[39m , \u001b[38;5;124m'\u001b[39m\u001b[38;5;124mSchafer\u001b[39m\u001b[38;5;124m'\u001b[39m, \u001b[38;5;241m50000\u001b[39m)\n\u001b[1;32m     17\u001b[0m emp2 \u001b[38;5;241m=\u001b[39m Employee(\u001b[38;5;124m'\u001b[39m\u001b[38;5;124mTest\u001b[39m\u001b[38;5;124m'\u001b[39m, \u001b[38;5;124m'\u001b[39m\u001b[38;5;124mUser\u001b[39m\u001b[38;5;124m'\u001b[39m, \u001b[38;5;241m40000\u001b[39m) \n\u001b[0;32m---> 19\u001b[0m \u001b[38;5;28mprint\u001b[39m(\u001b[43memp1\u001b[49m\u001b[38;5;241;43m.\u001b[39;49m\u001b[43mfullname\u001b[49m\u001b[43m(\u001b[49m\u001b[43m)\u001b[49m)\n",
      "\u001b[0;31mTypeError\u001b[0m: fullname() takes 0 positional arguments but 1 was given"
     ]
    }
   ],
   "source": [
    "# One common mistake that people make when defining a method is to \n",
    "# leave off the 'self' argument \n",
    "# (ie. def fullname() vs def fullname(self)).\n",
    "\n",
    "class Employee:\n",
    "    \n",
    "    def __init__(self, first, last, pay):\n",
    "        self.fname = first\n",
    "        self.lname = last\n",
    "        self.email = first + \".\" + last + \"@company.com\"\n",
    "        self.pay = pay\n",
    "    \n",
    "    def fullname():\n",
    "        return \"{} {}\".format(self.fname, self.lname)\n",
    "    \n",
    "emp1 = Employee('Corey' , 'Schafer', 50000)\n",
    "emp2 = Employee('Test', 'User', 40000) \n",
    "\n",
    "print(emp1.fullname())"
   ]
  },
  {
   "cell_type": "code",
   "execution_count": 63,
   "id": "ff200581",
   "metadata": {},
   "outputs": [
    {
     "name": "stdout",
     "output_type": "stream",
     "text": [
      "Corey Schafer\n",
      "Corey Schafer\n"
     ]
    }
   ],
   "source": [
    "# This error can be confusing because because it looks like there is not\n",
    "# argument being passed into the fullname function, emp.fullname. But the\n",
    "# instance which in this case is emp is being passed into the full name \n",
    "# funciton. Thefore, we have to expact that instance argument in our\n",
    "# (fullname) mehtod.\n",
    "class Employee:\n",
    "    \n",
    "    def __init__(self, first, last, pay):\n",
    "        self.fname = first\n",
    "        self.lname = last\n",
    "        self.email = first + \".\" + last + \"@company.com\"\n",
    "        self.pay = pay\n",
    "    \n",
    "    def fullname(self):\n",
    "        return \"{} {}\".format(self.fname, self.lname)\n",
    "    \n",
    "emp1 = Employee('Corey' , 'Schafer', 50000)\n",
    "emp2 = Employee('Test', 'User', 40000) \n",
    "\n",
    "print(emp1.fullname())\n",
    "\n",
    "\n",
    "# We can access the method from the Employee class. This makes it a little\n",
    "# more obveous about what is going on in the back ground. When we run it\n",
    "# the full name function through the class we have to manually pass the\n",
    "# instance to the fullname method.\n",
    "\n",
    "print(Employee.fullname(emp1))\n",
    "\n",
    "# In emp.fullname() I don't need to pass the \"self\" variable because it \n",
    "# the compiler knows to run it on the emp variable. When we access the \n",
    "# the method, fullname, from the class it doesn't know which instance to\n",
    "# run on therefore we have to pass the self variable.\n",
    "\n",
    "# emp.fullname() gets transformed into Employee.fullname(emp) in the \n",
    "# background."
   ]
  }
 ],
 "metadata": {
  "kernelspec": {
   "display_name": "Python 3 (ipykernel)",
   "language": "python",
   "name": "python3"
  },
  "language_info": {
   "codemirror_mode": {
    "name": "ipython",
    "version": 3
   },
   "file_extension": ".py",
   "mimetype": "text/x-python",
   "name": "python",
   "nbconvert_exporter": "python",
   "pygments_lexer": "ipython3",
   "version": "3.9.12"
  }
 },
 "nbformat": 4,
 "nbformat_minor": 5
}
