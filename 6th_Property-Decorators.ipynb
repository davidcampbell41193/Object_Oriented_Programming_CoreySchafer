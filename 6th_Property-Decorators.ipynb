{
 "cells": [
  {
   "cell_type": "markdown",
   "id": "e0da1130",
   "metadata": {},
   "source": [
    "# Tutorial 6: Property Decorators - Getters, Setters, and Deleters"
   ]
  },
  {
   "cell_type": "code",
   "execution_count": 27,
   "id": "92a85843",
   "metadata": {},
   "outputs": [
    {
     "name": "stdout",
     "output_type": "stream",
     "text": [
      "John\n",
      "Smith\n",
      "John.Smith@company.com \n",
      "\n",
      "Jim\n",
      "Smith\n",
      "John.Smith@company.com\n"
     ]
    }
   ],
   "source": [
    "class Employee:\n",
    "    \n",
    "    def __init__(self, first, last, pay):\n",
    "        self.first = first\n",
    "        self.last = last\n",
    "        self.email = first + \".\" + last + \"@company.com\"\n",
    "        self.pay = pay\n",
    "    \n",
    "    def fullname(self):\n",
    "        return \"{} {}\".format(self.first, self.last)\n",
    "    \n",
    "emp_1 = Employee( 'John' , 'Smith' , 50000)\n",
    "\n",
    "print( emp_1.first )\n",
    "print( emp_1.last )\n",
    "print( emp_1.email , '\\n')\n",
    "\n",
    "emp_1.first = 'Jim'\n",
    "\n",
    "print( emp_1.first )\n",
    "print( emp_1.last )\n",
    "print( emp_1.email )"
   ]
  },
  {
   "cell_type": "markdown",
   "id": "d61878a1",
   "metadata": {},
   "source": [
    "We want to be able to updat the email automatically anytime the first or last name changes."
   ]
  },
  {
   "cell_type": "code",
   "execution_count": 32,
   "id": "0ed244d0",
   "metadata": {},
   "outputs": [
    {
     "name": "stdout",
     "output_type": "stream",
     "text": [
      "John\n",
      "Smith\n",
      "John.Smith@company.com \n",
      "\n",
      "Jim\n",
      "Smith\n",
      "Jim.Smith@company.com\n"
     ]
    }
   ],
   "source": [
    "class Employee:\n",
    "    \n",
    "    def __init__(self, first, last, pay):\n",
    "        self.first = first\n",
    "        self.last = last\n",
    "        #self.email = first + \".\" + last + \"@company.com\"\n",
    "        self.pay = pay\n",
    "    \n",
    "    def email(self):\n",
    "        return '{}.{}@company.com'.format(self.first, self.last)\n",
    "    \n",
    "    def fullname(self):\n",
    "        return \"{} {}\".format(self.first, self.last)\n",
    "    \n",
    "emp_1 = Employee( 'John' , 'Smith' , 50000)\n",
    "\n",
    "print( emp_1.first )\n",
    "print( emp_1.last )\n",
    "print( emp_1.email() , '\\n')\n",
    "\n",
    "emp_1.first = 'Jim'\n",
    "\n",
    "print( emp_1.first )\n",
    "print( emp_1.last )\n",
    "print( emp_1.email() )"
   ]
  },
  {
   "cell_type": "markdown",
   "id": "dd08429b",
   "metadata": {},
   "source": [
    "We want to continue accessing the email as an attribute instead of a function to executed. Therefore we add the property decorator."
   ]
  },
  {
   "cell_type": "code",
   "execution_count": 34,
   "id": "72422b38",
   "metadata": {},
   "outputs": [
    {
     "name": "stdout",
     "output_type": "stream",
     "text": [
      "John\n",
      "Smith\n",
      "John Smith\n",
      "John.Smith@company.com \n",
      "\n",
      "Jim\n",
      "Smith\n",
      "Jim Smith\n",
      "Jim.Smith@company.com\n"
     ]
    }
   ],
   "source": [
    "class Employee:\n",
    "    \n",
    "    def __init__(self, first, last, pay):\n",
    "        self.first = first\n",
    "        self.last = last\n",
    "        #self.email = first + \".\" + last + \"@company.com\"\n",
    "        self.pay = pay\n",
    "    \n",
    "    @property\n",
    "    def email(self):\n",
    "        return '{}.{}@company.com'.format(self.first, self.last)\n",
    "    \n",
    "    @property\n",
    "    def fullname(self):\n",
    "        return \"{} {}\".format(self.first, self.last)\n",
    "    \n",
    "emp_1 = Employee( 'John' , 'Smith' , 50000)\n",
    "\n",
    "print( emp_1.first )\n",
    "print( emp_1.last )\n",
    "print( emp_1.fullname )\n",
    "print( emp_1.email , '\\n')\n",
    "\n",
    "emp_1.first = 'Jim'\n",
    "\n",
    "print( emp_1.first )\n",
    "print( emp_1.last )\n",
    "print( emp_1.fullname )\n",
    "print( emp_1.email )"
   ]
  },
  {
   "cell_type": "markdown",
   "id": "7d8dcc08",
   "metadata": {},
   "source": [
    "We want to be able to set the fullname as an attribute and be able to have first, last, and email change. For this we use a setter attriute."
   ]
  },
  {
   "cell_type": "code",
   "execution_count": 35,
   "id": "fbe051c6",
   "metadata": {},
   "outputs": [
    {
     "ename": "AttributeError",
     "evalue": "can't set attribute",
     "output_type": "error",
     "traceback": [
      "\u001b[0;31m---------------------------------------------------------------------------\u001b[0m",
      "\u001b[0;31mAttributeError\u001b[0m                            Traceback (most recent call last)",
      "Cell \u001b[0;32mIn [35], line 19\u001b[0m\n\u001b[1;32m     15\u001b[0m         \u001b[38;5;28;01mreturn\u001b[39;00m \u001b[38;5;124m\"\u001b[39m\u001b[38;5;132;01m{}\u001b[39;00m\u001b[38;5;124m \u001b[39m\u001b[38;5;132;01m{}\u001b[39;00m\u001b[38;5;124m\"\u001b[39m\u001b[38;5;241m.\u001b[39mformat(\u001b[38;5;28mself\u001b[39m\u001b[38;5;241m.\u001b[39mfirst, \u001b[38;5;28mself\u001b[39m\u001b[38;5;241m.\u001b[39mlast)\n\u001b[1;32m     17\u001b[0m emp_1 \u001b[38;5;241m=\u001b[39m Employee( \u001b[38;5;124m'\u001b[39m\u001b[38;5;124mJohn\u001b[39m\u001b[38;5;124m'\u001b[39m , \u001b[38;5;124m'\u001b[39m\u001b[38;5;124mSmith\u001b[39m\u001b[38;5;124m'\u001b[39m , \u001b[38;5;241m50000\u001b[39m)\n\u001b[0;32m---> 19\u001b[0m \u001b[43memp_1\u001b[49m\u001b[38;5;241;43m.\u001b[39;49m\u001b[43mfullname\u001b[49m \u001b[38;5;241m=\u001b[39m \u001b[38;5;124m'\u001b[39m\u001b[38;5;124mCorey Schafer\u001b[39m\u001b[38;5;124m'\u001b[39m\n",
      "\u001b[0;31mAttributeError\u001b[0m: can't set attribute"
     ]
    }
   ],
   "source": [
    "class Employee:\n",
    "    \n",
    "    def __init__(self, first, last, pay):\n",
    "        self.first = first\n",
    "        self.last = last\n",
    "        #self.email = first + \".\" + last + \"@company.com\"\n",
    "        self.pay = pay\n",
    "    \n",
    "    @property\n",
    "    def email(self):\n",
    "        return '{}.{}@company.com'.format(self.first, self.last)\n",
    "    \n",
    "    @property\n",
    "    def fullname(self):\n",
    "        return \"{} {}\".format(self.first, self.last)\n",
    "    \n",
    "emp_1 = Employee( 'John' , 'Smith' , 50000)\n",
    "\n",
    "emp_1.fullname = 'Corey Schafer'"
   ]
  },
  {
   "cell_type": "code",
   "execution_count": 38,
   "id": "f9c4bf0e",
   "metadata": {},
   "outputs": [
    {
     "name": "stdout",
     "output_type": "stream",
     "text": [
      "Corey\n",
      "Schafer\n",
      "Corey Schafer\n",
      "Corey.Schafer@company.com\n"
     ]
    }
   ],
   "source": [
    "class Employee:\n",
    "    \n",
    "    def __init__(self, first, last, pay):\n",
    "        self.first = first\n",
    "        self.last = last\n",
    "        #self.email = first + \".\" + last + \"@company.com\"\n",
    "        self.pay = pay\n",
    "    \n",
    "    @property\n",
    "    def email(self):\n",
    "        return '{}.{}@company.com'.format(self.first, self.last)\n",
    "    \n",
    "    @property\n",
    "    def fullname(self):\n",
    "        return \"{} {}\".format(self.first, self.last)\n",
    "    \n",
    "    @fullname.setter\n",
    "    def fullname(self, name):\n",
    "        first, last = name.split(' ')\n",
    "        self.first = first\n",
    "        self.last = last\n",
    "    \n",
    "emp_1 = Employee( 'John' , 'Smith' , 50000)\n",
    "\n",
    "emp_1.fullname = 'Corey Schafer'\n",
    "\n",
    "print( emp_1.first )\n",
    "print( emp_1.last )\n",
    "print( emp_1.fullname )\n",
    "print( emp_1.email )"
   ]
  },
  {
   "cell_type": "code",
   "execution_count": 42,
   "id": "da64aaf3",
   "metadata": {},
   "outputs": [
    {
     "name": "stdout",
     "output_type": "stream",
     "text": [
      "Corey\n",
      "Schafer\n",
      "Corey Schafer\n",
      "Corey.Schafer@company.com\n"
     ]
    }
   ],
   "source": [
    "class Employee:\n",
    "    \n",
    "    def __init__(self, first, last, pay):\n",
    "        self.first = first\n",
    "        self.last = last\n",
    "        #self.email = first + \".\" + last + \"@company.com\"\n",
    "        self.pay = pay\n",
    "    \n",
    "    @property\n",
    "    def email(self):\n",
    "        return '{}.{}@company.com'.format(self.first, self.last)\n",
    "    \n",
    "    @property\n",
    "    def fullname(self):\n",
    "        return \"{} {}\".format(self.first, self.last)\n",
    "    \n",
    "    @fullname.setter\n",
    "    def fullname(self, name):\n",
    "        first, last = name.split(' ')\n",
    "        self.first = first\n",
    "        self.last = last\n",
    "        \n",
    "    @fullname.deleter\n",
    "    def fullname(self):\n",
    "        print('Deleted Name!')\n",
    "        self.first = None\n",
    "        self.last = None\n",
    "        \n",
    "emp_1 = Employee( 'John' , 'Smith' , 50000)\n",
    "\n",
    "emp_1.fullname = 'Corey Schafer'\n",
    "\n",
    "print( emp_1.first )\n",
    "print( emp_1.last )\n",
    "print( emp_1.fullname )\n",
    "print( emp_1.email )"
   ]
  },
  {
   "cell_type": "code",
   "execution_count": 44,
   "id": "78122727",
   "metadata": {},
   "outputs": [
    {
     "name": "stdout",
     "output_type": "stream",
     "text": [
      "Deleted Name!\n",
      "None\n",
      "None\n",
      "None None\n",
      "None.None@company.com\n"
     ]
    }
   ],
   "source": [
    "del emp_1.fullname\n",
    "\n",
    "print( emp_1.first )\n",
    "print( emp_1.last )\n",
    "print( emp_1.fullname )\n",
    "print( emp_1.email )"
   ]
  },
  {
   "cell_type": "code",
   "execution_count": null,
   "id": "ed7cfe5a",
   "metadata": {},
   "outputs": [],
   "source": []
  }
 ],
 "metadata": {
  "kernelspec": {
   "display_name": "Python 3 (ipykernel)",
   "language": "python",
   "name": "python3"
  },
  "language_info": {
   "codemirror_mode": {
    "name": "ipython",
    "version": 3
   },
   "file_extension": ".py",
   "mimetype": "text/x-python",
   "name": "python",
   "nbconvert_exporter": "python",
   "pygments_lexer": "ipython3",
   "version": "3.9.12"
  }
 },
 "nbformat": 4,
 "nbformat_minor": 5
}
