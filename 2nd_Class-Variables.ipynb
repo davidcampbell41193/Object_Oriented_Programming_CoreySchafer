{
 "cells": [
  {
   "cell_type": "markdown",
   "id": "6d31d344",
   "metadata": {},
   "source": [
    "# Tutorial Two: Class Variables"
   ]
  },
  {
   "cell_type": "code",
   "execution_count": 64,
   "id": "ba041c35",
   "metadata": {},
   "outputs": [
    {
     "name": "stdout",
     "output_type": "stream",
     "text": [
      "Corey Schafer\n"
     ]
    }
   ],
   "source": [
    "# In the last video we learned how to create a simple class, and how to\n",
    "# create instances of that class. We learned about instance variables\n",
    "# we is used for data that is unique to each instance. Instance varbles\n",
    "# that are set with the self varibale in the initmet.\n",
    "\n",
    "class Employee:\n",
    "    \n",
    "    def __init__(self, first, last, pay):\n",
    "        self.fname = first\n",
    "        self.lname = last\n",
    "        self.email = first + \".\" + last + \"@company.com\"\n",
    "        self.pay = pay\n",
    "    \n",
    "    def fullname(self):\n",
    "        return \"{} {}\".format(self.fname, self.lname)\n",
    "    \n",
    "emp1 = Employee('Corey' , 'Schafer', 50000)\n",
    "emp2 = Employee('Test', 'User', 40000) \n",
    "\n",
    "print(emp1.fullname())"
   ]
  },
  {
   "cell_type": "code",
   "execution_count": 67,
   "id": "8ec97ec4",
   "metadata": {},
   "outputs": [
    {
     "name": "stdout",
     "output_type": "stream",
     "text": [
      "50000\n",
      "52000\n"
     ]
    }
   ],
   "source": [
    "# Class variables are shared among all instances of a class. An example\n",
    "# of data that would be shared among all employees is the company annual\n",
    "# raise.\n",
    "\n",
    "class Employee:\n",
    "    \n",
    "    def __init__(self, first, last, pay):\n",
    "        self.fname = first\n",
    "        self.lname = last\n",
    "        self.email = first + \".\" + last + \"@company.com\"\n",
    "        self.pay = pay\n",
    "    \n",
    "    def fullname(self):\n",
    "        return \"{} {}\".format(self.fname, self.lname)\n",
    "    \n",
    "    def apply_raise(self):\n",
    "        self.pay = int(self.pay * 1.04)\n",
    "    \n",
    "emp1 = Employee('Corey' , 'Schafer', 50000)\n",
    "emp2 = Employee('Test', 'User', 40000) \n",
    "\n",
    "\n",
    "print(emp1.pay)\n",
    "emp1.apply_raise()\n",
    "print(emp1.pay)\n",
    "\n",
    "# We can see that employee one's pay increases by 4% after the apply_raise\n",
    "# method was applied."
   ]
  },
  {
   "cell_type": "code",
   "execution_count": 68,
   "id": "15c9c006",
   "metadata": {},
   "outputs": [],
   "source": [
    "# It would be nice if we could access the raise amount through\n",
    "# emp1.raise_amount. Since it should apply to the entire class it should \n",
    "# work for Employee.raise_amount.\n",
    "\n",
    "# That raise amount attribute does not currently exit in the class \n",
    "# definition. Therefore we cannot see that it is %4.\n",
    "\n",
    "# Also we can't easily update the raise amount. The raise amount is \n",
    "# basically hidden within the apply_raise method. And the raise_amount\n",
    "# could be in multiple places within the code. We wouldn't want to manually\n",
    "# go in and change the %4 raise_amount in multiple location. \n",
    "\n",
    "# The way we fixed this problem is be defining a class variable."
   ]
  },
  {
   "cell_type": "code",
   "execution_count": 69,
   "id": "e7ea355d",
   "metadata": {},
   "outputs": [
    {
     "name": "stdout",
     "output_type": "stream",
     "text": [
      "50000\n"
     ]
    },
    {
     "ename": "NameError",
     "evalue": "name 'raise_amount' is not defined",
     "output_type": "error",
     "traceback": [
      "\u001b[0;31m---------------------------------------------------------------------------\u001b[0m",
      "\u001b[0;31mNameError\u001b[0m                                 Traceback (most recent call last)",
      "Cell \u001b[0;32mIn [69], line 22\u001b[0m\n\u001b[1;32m     19\u001b[0m emp2 \u001b[38;5;241m=\u001b[39m Employee(\u001b[38;5;124m'\u001b[39m\u001b[38;5;124mTest\u001b[39m\u001b[38;5;124m'\u001b[39m, \u001b[38;5;124m'\u001b[39m\u001b[38;5;124mUser\u001b[39m\u001b[38;5;124m'\u001b[39m, \u001b[38;5;241m40000\u001b[39m) \n\u001b[1;32m     21\u001b[0m \u001b[38;5;28mprint\u001b[39m(emp1\u001b[38;5;241m.\u001b[39mpay)\n\u001b[0;32m---> 22\u001b[0m \u001b[43memp1\u001b[49m\u001b[38;5;241;43m.\u001b[39;49m\u001b[43mapply_raise\u001b[49m\u001b[43m(\u001b[49m\u001b[43m)\u001b[49m\n\u001b[1;32m     23\u001b[0m \u001b[38;5;28mprint\u001b[39m(emp1\u001b[38;5;241m.\u001b[39mpay)\n",
      "Cell \u001b[0;32mIn [69], line 16\u001b[0m, in \u001b[0;36mEmployee.apply_raise\u001b[0;34m(self)\u001b[0m\n\u001b[1;32m     15\u001b[0m \u001b[38;5;28;01mdef\u001b[39;00m \u001b[38;5;21mapply_raise\u001b[39m(\u001b[38;5;28mself\u001b[39m):\n\u001b[0;32m---> 16\u001b[0m     \u001b[38;5;28mself\u001b[39m\u001b[38;5;241m.\u001b[39mpay \u001b[38;5;241m=\u001b[39m \u001b[38;5;28mint\u001b[39m(\u001b[38;5;28mself\u001b[39m\u001b[38;5;241m.\u001b[39mpay \u001b[38;5;241m*\u001b[39m \u001b[43mraise_amount\u001b[49m)\n",
      "\u001b[0;31mNameError\u001b[0m: name 'raise_amount' is not defined"
     ]
    }
   ],
   "source": [
    "class Employee:\n",
    "    \n",
    "    #Below is the class variable that we are defining.\n",
    "    rasie_amount = 1.04\n",
    "    \n",
    "    def __init__(self, first, last, pay):\n",
    "        self.fname = first\n",
    "        self.lname = last\n",
    "        self.email = first + \".\" + last + \"@company.com\"\n",
    "        self.pay = pay\n",
    "    \n",
    "    def fullname(self):\n",
    "        return \"{} {}\".format(self.fname, self.lname)\n",
    "    \n",
    "    def apply_raise(self):\n",
    "        self.pay = int(self.pay * raise_amount)\n",
    "    \n",
    "emp1 = Employee('Corey' , 'Schafer', 50000)\n",
    "emp2 = Employee('Test', 'User', 40000) \n",
    "\n",
    "print(emp1.pay)\n",
    "emp1.apply_raise()\n",
    "print(emp1.pay)\n",
    "\n"
   ]
  },
  {
   "cell_type": "code",
   "execution_count": 71,
   "id": "93078e46",
   "metadata": {},
   "outputs": [
    {
     "name": "stdout",
     "output_type": "stream",
     "text": [
      "50000\n",
      "52000\n"
     ]
    }
   ],
   "source": [
    "# We need to access the class variable through the class or the instance\n",
    "# its self. We can either do self.raise_amount or Employee.raise_amount.\n",
    "\n",
    "class Employee:\n",
    "    \n",
    "    #Below is the class variable that we are defining.\n",
    "    raise_amount = 1.04\n",
    "    \n",
    "    def __init__(self, first, last, pay):\n",
    "        self.fname = first\n",
    "        self.lname = last\n",
    "        self.email = first + \".\" + last + \"@company.com\"\n",
    "        self.pay = pay\n",
    "    \n",
    "    def fullname(self):\n",
    "        return \"{} {}\".format(self.fname, self.lname)\n",
    "    \n",
    "    def apply_raise(self):\n",
    "        self.pay = int(self.pay * self.raise_amount)\n",
    "    \n",
    "emp1 = Employee('Corey' , 'Schafer', 50000)\n",
    "emp2 = Employee('Test', 'User', 40000) \n",
    "\n",
    "print(emp1.pay)\n",
    "emp1.apply_raise()\n",
    "print(emp1.pay)"
   ]
  },
  {
   "cell_type": "code",
   "execution_count": 73,
   "id": "e81e475d",
   "metadata": {},
   "outputs": [
    {
     "name": "stdout",
     "output_type": "stream",
     "text": [
      "1.04\n",
      "1.04\n",
      "1.04\n"
     ]
    }
   ],
   "source": [
    "# It maybe confusing as to why you can access a class variable from the\n",
    "# instance itself.\n",
    "\n",
    "print(Employee.raise_amount)\n",
    "print(emp1.raise_amount)\n",
    "print(emp2.raise_amount)"
   ]
  },
  {
   "cell_type": "code",
   "execution_count": 76,
   "id": "a1ab739a",
   "metadata": {},
   "outputs": [
    {
     "name": "stdout",
     "output_type": "stream",
     "text": [
      "{'fname': 'Corey', 'lname': 'Schafer', 'email': 'Corey.Schafer@company.com', 'pay': 52000} \n",
      "\n",
      "{'__module__': '__main__', 'raise_amount': 1.04, '__init__': <function Employee.__init__ at 0x7fb97faedaf0>, 'fullname': <function Employee.fullname at 0x7fb97faed700>, 'apply_raise': <function Employee.apply_raise at 0x7fb97faede50>, '__dict__': <attribute '__dict__' of 'Employee' objects>, '__weakref__': <attribute '__weakref__' of 'Employee' objects>, '__doc__': None}\n"
     ]
    }
   ],
   "source": [
    "# As we can see we can access the raise_amount attribute from the class\n",
    "# and the instances itself. \n",
    "\n",
    "# When we try to access an attribute from an instance it will first check \n",
    "# if the instance contains that attribute. If the instance does not contain\n",
    "# the attribute, it will check if the class, or any other class that it \n",
    "# it inherates from, contains that attribute.\n",
    "\n",
    "# When we access the raise_amount from the instances, emp1 and emp2, they\n",
    "# don't actually contain the attribute themselves. They are being access\n",
    "# through the class, Employee.\n",
    "\n",
    "# To see what is going on better we can print out the name space of \n",
    "# the instances, emp1 and emp2, and the class, Employee.\n",
    "\n",
    "print(emp1.__dict__ , '\\n')\n",
    "print(Employee.__dict__)"
   ]
  },
  {
   "cell_type": "code",
   "execution_count": 77,
   "id": "b9441fa8",
   "metadata": {},
   "outputs": [
    {
     "name": "stdout",
     "output_type": "stream",
     "text": [
      "1.05\n",
      "1.05\n",
      "1.05\n"
     ]
    }
   ],
   "source": [
    "# We can see that the Employee class dictionary contains the raise amount, but \n",
    "# the instance dictionary does not.\n",
    "\n",
    "# We can change the raise amount for the class and instances.\n",
    "\n",
    "Employee.raise_amount = 1.05\n",
    "\n",
    "print(Employee.raise_amount)\n",
    "print(emp1.raise_amount)\n",
    "print(emp2.raise_amount)"
   ]
  },
  {
   "cell_type": "code",
   "execution_count": 78,
   "id": "1495723e",
   "metadata": {},
   "outputs": [
    {
     "name": "stdout",
     "output_type": "stream",
     "text": [
      "1.04\n",
      "1.05\n",
      "1.04\n"
     ]
    }
   ],
   "source": [
    "# We can also chagne the raise amount for a particular instance.\n",
    "\n",
    "class Employee:\n",
    "    \n",
    "    #Below is the class variable that we are defining.\n",
    "    raise_amount = 1.04\n",
    "    \n",
    "    def __init__(self, first, last, pay):\n",
    "        self.fname = first\n",
    "        self.lname = last\n",
    "        self.email = first + \".\" + last + \"@company.com\"\n",
    "        self.pay = pay\n",
    "    \n",
    "    def fullname(self):\n",
    "        return \"{} {}\".format(self.fname, self.lname)\n",
    "    \n",
    "    def apply_raise(self):\n",
    "        self.pay = int(self.pay * self.raise_amount)\n",
    "    \n",
    "emp1 = Employee('Corey' , 'Schafer', 50000)\n",
    "emp2 = Employee('Test', 'User', 40000) \n",
    "\n",
    "# Below we are changing the raise_amount for employee 1.\n",
    "emp1.raise_amount = 1.05\n",
    "# This raise_amount assignment made a raise_amount attribute fore\n",
    "# employee 1. \n",
    "\n",
    "print(Employee.raise_amount)\n",
    "print(emp1.raise_amount)\n",
    "print(emp2.raise_amount)\n",
    "\n",
    "# There the raise_amount is access through its but the raise_amount for\n",
    "# emp2 is access through the classes its self. This is an important\n",
    "# concept to understand when we apply_raise method is applied. When\n",
    "# the apply_raise method is applied to emp1 the amount will be 5% but will\n",
    "# be 4% for emp2. If the raise_amount were access from the class the\n",
    "# raise_would be %4 for emp2 ande emp2."
   ]
  },
  {
   "cell_type": "code",
   "execution_count": 80,
   "id": "fc8955f3",
   "metadata": {},
   "outputs": [
    {
     "name": "stdout",
     "output_type": "stream",
     "text": [
      "{'fname': 'Corey', 'lname': 'Schafer', 'email': 'Corey.Schafer@company.com', 'pay': 50000, 'raise_amount': 1.05} \n",
      "\n",
      "{'__module__': '__main__', 'raise_amount': 1.04, '__init__': <function Employee.__init__ at 0x7fb97fe103a0>, 'fullname': <function Employee.fullname at 0x7fb97fe109d0>, 'apply_raise': <function Employee.apply_raise at 0x7fb97fe10820>, '__dict__': <attribute '__dict__' of 'Employee' objects>, '__weakref__': <attribute '__weakref__' of 'Employee' objects>, '__doc__': None}\n"
     ]
    }
   ],
   "source": [
    "# The raise_amount only changed from employee 1.\n",
    "\n",
    "print(emp1.__dict__ , '\\n')\n",
    "print(Employee.__dict__)\n",
    "\n",
    "# We can see that employee 1 has 'raise_amount' within its name space.\n",
    "# Therefore emp1.raise_amount is access through the instance emp1 without\n",
    "# having to access it through the class."
   ]
  },
  {
   "cell_type": "code",
   "execution_count": 94,
   "id": "5e7cb7c1",
   "metadata": {},
   "outputs": [
    {
     "name": "stdout",
     "output_type": "stream",
     "text": [
      "Employee 1 pay:\n",
      "50000\n",
      "52000 \n",
      "\n",
      "Employee 2 pay:\n",
      "50000\n",
      "52000 \n",
      "\n"
     ]
    }
   ],
   "source": [
    "# Lets say that we were to access the raise_amount through the class\n",
    "# instead of the instance. \n",
    "\n",
    "class Employee:\n",
    "    \n",
    "    #Below is the class variable that we are defining.\n",
    "    raise_amount = 1.04\n",
    "    \n",
    "    def __init__(self, first, last, pay):\n",
    "        self.fname = first\n",
    "        self.lname = last\n",
    "        self.email = first + \".\" + last + \"@company.com\"\n",
    "        self.pay = pay\n",
    "    \n",
    "    def fullname(self):\n",
    "        return \"{} {}\".format(self.fname, self.lname)\n",
    "    \n",
    "    def apply_raise(self):\n",
    "        self.pay = int(self.pay * Employee.raise_amount)\n",
    "    \n",
    "emp1 = Employee('Corey' , 'Schafer', 50000)\n",
    "emp2 = Employee('Test', 'User', 50000) \n",
    "\n",
    "# We can still declare that emp1.raise_amount = 1.05\n",
    "\n",
    "emp1.raise_amount = 1.05 \n",
    "\n",
    "print('Employee 1 pay:')\n",
    "print(emp1.pay)\n",
    "emp1.apply_raise()\n",
    "print(emp1.pay , '\\n')\n",
    "\n",
    "print('Employee 2 pay:')\n",
    "print(emp2.pay)\n",
    "emp2.apply_raise()\n",
    "print(emp2.pay , '\\n')\n",
    "\n",
    "\n",
    "# We can see the raise amount is the safe for both cases."
   ]
  },
  {
   "cell_type": "code",
   "execution_count": 95,
   "id": "d08dac29",
   "metadata": {},
   "outputs": [
    {
     "name": "stdout",
     "output_type": "stream",
     "text": [
      "Employee 1 pay:\n",
      "50000\n",
      "52500 \n",
      "\n",
      "Employee 2 pay:\n",
      "50000\n",
      "52000 \n",
      "\n"
     ]
    }
   ],
   "source": [
    "class Employee:\n",
    "    \n",
    "    #Below is the class variable that we are defining.\n",
    "    raise_amount = 1.04\n",
    "    \n",
    "    def __init__(self, first, last, pay):\n",
    "        self.fname = first\n",
    "        self.lname = last\n",
    "        self.email = first + \".\" + last + \"@company.com\"\n",
    "        self.pay = pay\n",
    "    \n",
    "    def fullname(self):\n",
    "        return \"{} {}\".format(self.fname, self.lname)\n",
    "    \n",
    "    def apply_raise(self):\n",
    "        self.pay = int(self.pay * self.raise_amount)\n",
    "    \n",
    "emp1 = Employee('Corey' , 'Schafer', 50000)\n",
    "emp2 = Employee('Test', 'User', 50000) \n",
    "\n",
    "# We can still declare that emp1.raise_amount = 1.05\n",
    "\n",
    "emp1.raise_amount = 1.05 \n",
    "\n",
    "print('Employee 1 pay:')\n",
    "print(emp1.pay)\n",
    "emp1.apply_raise()\n",
    "print(emp1.pay , '\\n')\n",
    "\n",
    "print('Employee 2 pay:')\n",
    "print(emp2.pay)\n",
    "emp2.apply_raise()\n",
    "print(emp2.pay , '\\n')\n",
    "\n",
    "# Now we can see that the pay was 5% for emplyee 1, and 4% for employee 2."
   ]
  },
  {
   "cell_type": "code",
   "execution_count": 85,
   "id": "3d76ed80",
   "metadata": {},
   "outputs": [
    {
     "name": "stdout",
     "output_type": "stream",
     "text": [
      "0\n",
      "2\n"
     ]
    }
   ],
   "source": [
    "# Now let look at class variable where it would not make sence to you \n",
    "# use self. \n",
    "\n",
    "class Employee:\n",
    "    \n",
    "    #Below is the class variable that we are defining.\n",
    "    raise_amount = 1.04\n",
    "    \n",
    "    num_of_emps = 0\n",
    "    \n",
    "    def __init__(self, first, last, pay):\n",
    "        self.fname = first\n",
    "        self.lname = last\n",
    "        self.email = first + \".\" + last + \"@company.com\"\n",
    "        self.pay = pay\n",
    "        \n",
    "        Employee.num_of_emps += 1 \n",
    "    \n",
    "    def fullname(self):\n",
    "        return \"{} {}\".format(self.fname, self.lname)\n",
    "    \n",
    "    def apply_raise(self):\n",
    "        self.pay = int(self.pay * self.raise_amount)\n",
    "    \n",
    "print(Employee.num_of_emps)\n",
    "    \n",
    "emp1 = Employee('Corey' , 'Schafer', 50000)\n",
    "emp2 = Employee('Test', 'User', 40000) \n",
    "\n",
    "print(Employee.num_of_emps)"
   ]
  }
 ],
 "metadata": {
  "kernelspec": {
   "display_name": "Python 3 (ipykernel)",
   "language": "python",
   "name": "python3"
  },
  "language_info": {
   "codemirror_mode": {
    "name": "ipython",
    "version": 3
   },
   "file_extension": ".py",
   "mimetype": "text/x-python",
   "name": "python",
   "nbconvert_exporter": "python",
   "pygments_lexer": "ipython3",
   "version": "3.9.12"
  }
 },
 "nbformat": 4,
 "nbformat_minor": 5
}
